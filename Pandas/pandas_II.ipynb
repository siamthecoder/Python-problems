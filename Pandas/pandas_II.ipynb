{
 "cells": [
  {
   "cell_type": "markdown",
   "id": "446b1ab9",
   "metadata": {},
   "source": [
    "# Data Cleaning & Handling"
   ]
  },
  {
   "cell_type": "markdown",
   "id": "9c4350cc",
   "metadata": {},
   "source": [
    "## drop()"
   ]
  },
  {
   "cell_type": "code",
   "execution_count": 12,
   "id": "df2dcc5d",
   "metadata": {},
   "outputs": [],
   "source": [
    "import pandas as pd\n",
    "\n",
    "citizens = {\n",
    "    \"Name\" : [\"Isha\", \"Rifat\", \"Munna\", \"SSB\", \"Billah\", \"Tom\"],\n",
    "    \"Age\" : [19, 20, 21, 22, 23, 24],\n",
    "    \"City\" : [\"UK\", \"DHK\", \"NYC\", \"LAC\", \"SYD\", \"NYC\"]\n",
    "}\n",
    "\n",
    "df = pd.DataFrame(citizens)"
   ]
  },
  {
   "cell_type": "code",
   "execution_count": 2,
   "id": "b338740a",
   "metadata": {},
   "outputs": [
    {
     "data": {
      "text/html": [
       "<div>\n",
       "<style scoped>\n",
       "    .dataframe tbody tr th:only-of-type {\n",
       "        vertical-align: middle;\n",
       "    }\n",
       "\n",
       "    .dataframe tbody tr th {\n",
       "        vertical-align: top;\n",
       "    }\n",
       "\n",
       "    .dataframe thead th {\n",
       "        text-align: right;\n",
       "    }\n",
       "</style>\n",
       "<table border=\"1\" class=\"dataframe\">\n",
       "  <thead>\n",
       "    <tr style=\"text-align: right;\">\n",
       "      <th></th>\n",
       "      <th>Name</th>\n",
       "      <th>Age</th>\n",
       "      <th>City</th>\n",
       "    </tr>\n",
       "  </thead>\n",
       "  <tbody>\n",
       "    <tr>\n",
       "      <th>0</th>\n",
       "      <td>Isha</td>\n",
       "      <td>19</td>\n",
       "      <td>UK</td>\n",
       "    </tr>\n",
       "    <tr>\n",
       "      <th>1</th>\n",
       "      <td>Rifat</td>\n",
       "      <td>20</td>\n",
       "      <td>DHK</td>\n",
       "    </tr>\n",
       "    <tr>\n",
       "      <th>2</th>\n",
       "      <td>Munna</td>\n",
       "      <td>21</td>\n",
       "      <td>NYC</td>\n",
       "    </tr>\n",
       "    <tr>\n",
       "      <th>3</th>\n",
       "      <td>SSB</td>\n",
       "      <td>22</td>\n",
       "      <td>LAC</td>\n",
       "    </tr>\n",
       "    <tr>\n",
       "      <th>4</th>\n",
       "      <td>Billah</td>\n",
       "      <td>23</td>\n",
       "      <td>SYD</td>\n",
       "    </tr>\n",
       "    <tr>\n",
       "      <th>5</th>\n",
       "      <td>Tom</td>\n",
       "      <td>24</td>\n",
       "      <td>NYC</td>\n",
       "    </tr>\n",
       "  </tbody>\n",
       "</table>\n",
       "</div>"
      ],
      "text/plain": [
       "     Name  Age City\n",
       "0    Isha   19   UK\n",
       "1   Rifat   20  DHK\n",
       "2   Munna   21  NYC\n",
       "3     SSB   22  LAC\n",
       "4  Billah   23  SYD\n",
       "5     Tom   24  NYC"
      ]
     },
     "execution_count": 2,
     "metadata": {},
     "output_type": "execute_result"
    }
   ],
   "source": [
    "df"
   ]
  },
  {
   "cell_type": "code",
   "execution_count": 13,
   "id": "bcdfdb2e",
   "metadata": {},
   "outputs": [],
   "source": [
    "#Dropping a column\n",
    "\n",
    "column_dropped_df = df.drop(\"Age\", axis = 1)"
   ]
  },
  {
   "cell_type": "code",
   "execution_count": 14,
   "id": "e630616f",
   "metadata": {},
   "outputs": [
    {
     "data": {
      "text/html": [
       "<div>\n",
       "<style scoped>\n",
       "    .dataframe tbody tr th:only-of-type {\n",
       "        vertical-align: middle;\n",
       "    }\n",
       "\n",
       "    .dataframe tbody tr th {\n",
       "        vertical-align: top;\n",
       "    }\n",
       "\n",
       "    .dataframe thead th {\n",
       "        text-align: right;\n",
       "    }\n",
       "</style>\n",
       "<table border=\"1\" class=\"dataframe\">\n",
       "  <thead>\n",
       "    <tr style=\"text-align: right;\">\n",
       "      <th></th>\n",
       "      <th>Name</th>\n",
       "      <th>City</th>\n",
       "    </tr>\n",
       "  </thead>\n",
       "  <tbody>\n",
       "    <tr>\n",
       "      <th>0</th>\n",
       "      <td>Isha</td>\n",
       "      <td>UK</td>\n",
       "    </tr>\n",
       "    <tr>\n",
       "      <th>1</th>\n",
       "      <td>Rifat</td>\n",
       "      <td>DHK</td>\n",
       "    </tr>\n",
       "    <tr>\n",
       "      <th>2</th>\n",
       "      <td>Munna</td>\n",
       "      <td>NYC</td>\n",
       "    </tr>\n",
       "    <tr>\n",
       "      <th>3</th>\n",
       "      <td>SSB</td>\n",
       "      <td>LAC</td>\n",
       "    </tr>\n",
       "    <tr>\n",
       "      <th>4</th>\n",
       "      <td>Billah</td>\n",
       "      <td>SYD</td>\n",
       "    </tr>\n",
       "    <tr>\n",
       "      <th>5</th>\n",
       "      <td>Tom</td>\n",
       "      <td>NYC</td>\n",
       "    </tr>\n",
       "  </tbody>\n",
       "</table>\n",
       "</div>"
      ],
      "text/plain": [
       "     Name City\n",
       "0    Isha   UK\n",
       "1   Rifat  DHK\n",
       "2   Munna  NYC\n",
       "3     SSB  LAC\n",
       "4  Billah  SYD\n",
       "5     Tom  NYC"
      ]
     },
     "execution_count": 14,
     "metadata": {},
     "output_type": "execute_result"
    }
   ],
   "source": [
    "column_dropped_df"
   ]
  },
  {
   "cell_type": "markdown",
   "id": "8946b259",
   "metadata": {},
   "source": [
    "#### Inplace \n",
    "* Accessed the main memory & make changes on that if the value is True"
   ]
  },
  {
   "cell_type": "code",
   "execution_count": 15,
   "id": "a2ff6caa",
   "metadata": {},
   "outputs": [
    {
     "data": {
      "text/html": [
       "<div>\n",
       "<style scoped>\n",
       "    .dataframe tbody tr th:only-of-type {\n",
       "        vertical-align: middle;\n",
       "    }\n",
       "\n",
       "    .dataframe tbody tr th {\n",
       "        vertical-align: top;\n",
       "    }\n",
       "\n",
       "    .dataframe thead th {\n",
       "        text-align: right;\n",
       "    }\n",
       "</style>\n",
       "<table border=\"1\" class=\"dataframe\">\n",
       "  <thead>\n",
       "    <tr style=\"text-align: right;\">\n",
       "      <th></th>\n",
       "      <th>Name</th>\n",
       "      <th>Age</th>\n",
       "      <th>City</th>\n",
       "    </tr>\n",
       "  </thead>\n",
       "  <tbody>\n",
       "    <tr>\n",
       "      <th>0</th>\n",
       "      <td>Isha</td>\n",
       "      <td>19</td>\n",
       "      <td>UK</td>\n",
       "    </tr>\n",
       "    <tr>\n",
       "      <th>1</th>\n",
       "      <td>Rifat</td>\n",
       "      <td>20</td>\n",
       "      <td>DHK</td>\n",
       "    </tr>\n",
       "    <tr>\n",
       "      <th>2</th>\n",
       "      <td>Munna</td>\n",
       "      <td>21</td>\n",
       "      <td>NYC</td>\n",
       "    </tr>\n",
       "    <tr>\n",
       "      <th>3</th>\n",
       "      <td>SSB</td>\n",
       "      <td>22</td>\n",
       "      <td>LAC</td>\n",
       "    </tr>\n",
       "    <tr>\n",
       "      <th>4</th>\n",
       "      <td>Billah</td>\n",
       "      <td>23</td>\n",
       "      <td>SYD</td>\n",
       "    </tr>\n",
       "    <tr>\n",
       "      <th>5</th>\n",
       "      <td>Tom</td>\n",
       "      <td>24</td>\n",
       "      <td>NYC</td>\n",
       "    </tr>\n",
       "  </tbody>\n",
       "</table>\n",
       "</div>"
      ],
      "text/plain": [
       "     Name  Age City\n",
       "0    Isha   19   UK\n",
       "1   Rifat   20  DHK\n",
       "2   Munna   21  NYC\n",
       "3     SSB   22  LAC\n",
       "4  Billah   23  SYD\n",
       "5     Tom   24  NYC"
      ]
     },
     "execution_count": 15,
     "metadata": {},
     "output_type": "execute_result"
    }
   ],
   "source": [
    "df"
   ]
  },
  {
   "cell_type": "code",
   "execution_count": 16,
   "id": "563b6b32",
   "metadata": {},
   "outputs": [],
   "source": [
    "df.drop(\"Age\", axis = 1, inplace = True)"
   ]
  },
  {
   "cell_type": "code",
   "execution_count": 17,
   "id": "cfa7b316",
   "metadata": {},
   "outputs": [
    {
     "data": {
      "text/html": [
       "<div>\n",
       "<style scoped>\n",
       "    .dataframe tbody tr th:only-of-type {\n",
       "        vertical-align: middle;\n",
       "    }\n",
       "\n",
       "    .dataframe tbody tr th {\n",
       "        vertical-align: top;\n",
       "    }\n",
       "\n",
       "    .dataframe thead th {\n",
       "        text-align: right;\n",
       "    }\n",
       "</style>\n",
       "<table border=\"1\" class=\"dataframe\">\n",
       "  <thead>\n",
       "    <tr style=\"text-align: right;\">\n",
       "      <th></th>\n",
       "      <th>Name</th>\n",
       "      <th>City</th>\n",
       "    </tr>\n",
       "  </thead>\n",
       "  <tbody>\n",
       "    <tr>\n",
       "      <th>0</th>\n",
       "      <td>Isha</td>\n",
       "      <td>UK</td>\n",
       "    </tr>\n",
       "    <tr>\n",
       "      <th>1</th>\n",
       "      <td>Rifat</td>\n",
       "      <td>DHK</td>\n",
       "    </tr>\n",
       "    <tr>\n",
       "      <th>2</th>\n",
       "      <td>Munna</td>\n",
       "      <td>NYC</td>\n",
       "    </tr>\n",
       "    <tr>\n",
       "      <th>3</th>\n",
       "      <td>SSB</td>\n",
       "      <td>LAC</td>\n",
       "    </tr>\n",
       "    <tr>\n",
       "      <th>4</th>\n",
       "      <td>Billah</td>\n",
       "      <td>SYD</td>\n",
       "    </tr>\n",
       "    <tr>\n",
       "      <th>5</th>\n",
       "      <td>Tom</td>\n",
       "      <td>NYC</td>\n",
       "    </tr>\n",
       "  </tbody>\n",
       "</table>\n",
       "</div>"
      ],
      "text/plain": [
       "     Name City\n",
       "0    Isha   UK\n",
       "1   Rifat  DHK\n",
       "2   Munna  NYC\n",
       "3     SSB  LAC\n",
       "4  Billah  SYD\n",
       "5     Tom  NYC"
      ]
     },
     "execution_count": 17,
     "metadata": {},
     "output_type": "execute_result"
    }
   ],
   "source": [
    "df"
   ]
  },
  {
   "cell_type": "markdown",
   "id": "990b42e0",
   "metadata": {},
   "source": [
    "## fillna()\n",
    "* Fill missing values in the DataFrame."
   ]
  },
  {
   "cell_type": "code",
   "execution_count": 23,
   "id": "78a510d2",
   "metadata": {},
   "outputs": [
    {
     "data": {
      "text/plain": [
       "{'ODI': [45, None, 37, 55, None],\n",
       " 'Test': [None, None, 66, None, None],\n",
       " 'T20I': [None, 25, None, 20, 4]}"
      ]
     },
     "execution_count": 23,
     "metadata": {},
     "output_type": "execute_result"
    }
   ],
   "source": [
    "AHB_runs = {\n",
    "    \"ODI\" : [45, None, 37, 55, None],\n",
    "    \"Test\" : [None, None, 66, None, None],\n",
    "    \"T20I\" : [None, 25, None, 20, 4]\n",
    "}\n",
    "AHB_runs"
   ]
  },
  {
   "cell_type": "code",
   "execution_count": 24,
   "id": "1833338b",
   "metadata": {},
   "outputs": [],
   "source": [
    "AHB_runs_with_null = pd.DataFrame(AHB_runs)"
   ]
  },
  {
   "cell_type": "code",
   "execution_count": 25,
   "id": "c7619640",
   "metadata": {},
   "outputs": [
    {
     "data": {
      "text/html": [
       "<div>\n",
       "<style scoped>\n",
       "    .dataframe tbody tr th:only-of-type {\n",
       "        vertical-align: middle;\n",
       "    }\n",
       "\n",
       "    .dataframe tbody tr th {\n",
       "        vertical-align: top;\n",
       "    }\n",
       "\n",
       "    .dataframe thead th {\n",
       "        text-align: right;\n",
       "    }\n",
       "</style>\n",
       "<table border=\"1\" class=\"dataframe\">\n",
       "  <thead>\n",
       "    <tr style=\"text-align: right;\">\n",
       "      <th></th>\n",
       "      <th>ODI</th>\n",
       "      <th>Test</th>\n",
       "      <th>T20I</th>\n",
       "    </tr>\n",
       "  </thead>\n",
       "  <tbody>\n",
       "    <tr>\n",
       "      <th>0</th>\n",
       "      <td>45.0</td>\n",
       "      <td>NaN</td>\n",
       "      <td>NaN</td>\n",
       "    </tr>\n",
       "    <tr>\n",
       "      <th>1</th>\n",
       "      <td>NaN</td>\n",
       "      <td>NaN</td>\n",
       "      <td>25.0</td>\n",
       "    </tr>\n",
       "    <tr>\n",
       "      <th>2</th>\n",
       "      <td>37.0</td>\n",
       "      <td>66.0</td>\n",
       "      <td>NaN</td>\n",
       "    </tr>\n",
       "    <tr>\n",
       "      <th>3</th>\n",
       "      <td>55.0</td>\n",
       "      <td>NaN</td>\n",
       "      <td>20.0</td>\n",
       "    </tr>\n",
       "    <tr>\n",
       "      <th>4</th>\n",
       "      <td>NaN</td>\n",
       "      <td>NaN</td>\n",
       "      <td>4.0</td>\n",
       "    </tr>\n",
       "  </tbody>\n",
       "</table>\n",
       "</div>"
      ],
      "text/plain": [
       "    ODI  Test  T20I\n",
       "0  45.0   NaN   NaN\n",
       "1   NaN   NaN  25.0\n",
       "2  37.0  66.0   NaN\n",
       "3  55.0   NaN  20.0\n",
       "4   NaN   NaN   4.0"
      ]
     },
     "execution_count": 25,
     "metadata": {},
     "output_type": "execute_result"
    }
   ],
   "source": [
    "AHB_runs_with_null"
   ]
  },
  {
   "cell_type": "code",
   "execution_count": 26,
   "id": "a4427aec",
   "metadata": {},
   "outputs": [],
   "source": [
    "AHB_runs_filled = AHB_runs_with_null.fillna(60)"
   ]
  },
  {
   "cell_type": "code",
   "execution_count": 27,
   "id": "71217e98",
   "metadata": {},
   "outputs": [
    {
     "data": {
      "text/html": [
       "<div>\n",
       "<style scoped>\n",
       "    .dataframe tbody tr th:only-of-type {\n",
       "        vertical-align: middle;\n",
       "    }\n",
       "\n",
       "    .dataframe tbody tr th {\n",
       "        vertical-align: top;\n",
       "    }\n",
       "\n",
       "    .dataframe thead th {\n",
       "        text-align: right;\n",
       "    }\n",
       "</style>\n",
       "<table border=\"1\" class=\"dataframe\">\n",
       "  <thead>\n",
       "    <tr style=\"text-align: right;\">\n",
       "      <th></th>\n",
       "      <th>ODI</th>\n",
       "      <th>Test</th>\n",
       "      <th>T20I</th>\n",
       "    </tr>\n",
       "  </thead>\n",
       "  <tbody>\n",
       "    <tr>\n",
       "      <th>0</th>\n",
       "      <td>45.0</td>\n",
       "      <td>60.0</td>\n",
       "      <td>60.0</td>\n",
       "    </tr>\n",
       "    <tr>\n",
       "      <th>1</th>\n",
       "      <td>60.0</td>\n",
       "      <td>60.0</td>\n",
       "      <td>25.0</td>\n",
       "    </tr>\n",
       "    <tr>\n",
       "      <th>2</th>\n",
       "      <td>37.0</td>\n",
       "      <td>66.0</td>\n",
       "      <td>60.0</td>\n",
       "    </tr>\n",
       "    <tr>\n",
       "      <th>3</th>\n",
       "      <td>55.0</td>\n",
       "      <td>60.0</td>\n",
       "      <td>20.0</td>\n",
       "    </tr>\n",
       "    <tr>\n",
       "      <th>4</th>\n",
       "      <td>60.0</td>\n",
       "      <td>60.0</td>\n",
       "      <td>4.0</td>\n",
       "    </tr>\n",
       "  </tbody>\n",
       "</table>\n",
       "</div>"
      ],
      "text/plain": [
       "    ODI  Test  T20I\n",
       "0  45.0  60.0  60.0\n",
       "1  60.0  60.0  25.0\n",
       "2  37.0  66.0  60.0\n",
       "3  55.0  60.0  20.0\n",
       "4  60.0  60.0   4.0"
      ]
     },
     "execution_count": 27,
     "metadata": {},
     "output_type": "execute_result"
    }
   ],
   "source": [
    "AHB_runs_filled"
   ]
  },
  {
   "cell_type": "code",
   "execution_count": 29,
   "id": "d6a83490",
   "metadata": {},
   "outputs": [
    {
     "data": {
      "text/plain": [
       "ODI\n",
       "60.0    2\n",
       "37.0    1\n",
       "45.0    1\n",
       "55.0    1\n",
       "Name: count, dtype: int64"
      ]
     },
     "execution_count": 29,
     "metadata": {},
     "output_type": "execute_result"
    }
   ],
   "source": [
    "AHB_runs_filled.value_counts(\"ODI\")"
   ]
  },
  {
   "cell_type": "markdown",
   "id": "6e85e437",
   "metadata": {},
   "source": [
    "## drop_duplicates()"
   ]
  },
  {
   "cell_type": "code",
   "execution_count": 34,
   "id": "73c71e63",
   "metadata": {},
   "outputs": [
    {
     "data": {
      "text/html": [
       "<div>\n",
       "<style scoped>\n",
       "    .dataframe tbody tr th:only-of-type {\n",
       "        vertical-align: middle;\n",
       "    }\n",
       "\n",
       "    .dataframe tbody tr th {\n",
       "        vertical-align: top;\n",
       "    }\n",
       "\n",
       "    .dataframe thead th {\n",
       "        text-align: right;\n",
       "    }\n",
       "</style>\n",
       "<table border=\"1\" class=\"dataframe\">\n",
       "  <thead>\n",
       "    <tr style=\"text-align: right;\">\n",
       "      <th></th>\n",
       "      <th>A</th>\n",
       "      <th>B</th>\n",
       "    </tr>\n",
       "  </thead>\n",
       "  <tbody>\n",
       "    <tr>\n",
       "      <th>0</th>\n",
       "      <td>1</td>\n",
       "      <td>x</td>\n",
       "    </tr>\n",
       "    <tr>\n",
       "      <th>1</th>\n",
       "      <td>2</td>\n",
       "      <td>y</td>\n",
       "    </tr>\n",
       "    <tr>\n",
       "      <th>2</th>\n",
       "      <td>1</td>\n",
       "      <td>x</td>\n",
       "    </tr>\n",
       "    <tr>\n",
       "      <th>3</th>\n",
       "      <td>2</td>\n",
       "      <td>y</td>\n",
       "    </tr>\n",
       "    <tr>\n",
       "      <th>4</th>\n",
       "      <td>3</td>\n",
       "      <td>z</td>\n",
       "    </tr>\n",
       "  </tbody>\n",
       "</table>\n",
       "</div>"
      ],
      "text/plain": [
       "   A  B\n",
       "0  1  x\n",
       "1  2  y\n",
       "2  1  x\n",
       "3  2  y\n",
       "4  3  z"
      ]
     },
     "execution_count": 34,
     "metadata": {},
     "output_type": "execute_result"
    }
   ],
   "source": [
    "emps = {\n",
    "    \"A\" : [1, 2, 1, 2, 3],\n",
    "    \"B\" : [\"x\", \"y\", \"x\", \"y\", \"z\"]\n",
    "}\n",
    "\n",
    "df = pd.DataFrame(emps)\n",
    "\n",
    "df"
   ]
  },
  {
   "cell_type": "code",
   "execution_count": 35,
   "id": "0ffb1913",
   "metadata": {},
   "outputs": [],
   "source": [
    "df.drop_duplicates(inplace = True)"
   ]
  },
  {
   "cell_type": "code",
   "execution_count": 36,
   "id": "a2116f77",
   "metadata": {},
   "outputs": [
    {
     "data": {
      "text/html": [
       "<div>\n",
       "<style scoped>\n",
       "    .dataframe tbody tr th:only-of-type {\n",
       "        vertical-align: middle;\n",
       "    }\n",
       "\n",
       "    .dataframe tbody tr th {\n",
       "        vertical-align: top;\n",
       "    }\n",
       "\n",
       "    .dataframe thead th {\n",
       "        text-align: right;\n",
       "    }\n",
       "</style>\n",
       "<table border=\"1\" class=\"dataframe\">\n",
       "  <thead>\n",
       "    <tr style=\"text-align: right;\">\n",
       "      <th></th>\n",
       "      <th>A</th>\n",
       "      <th>B</th>\n",
       "    </tr>\n",
       "  </thead>\n",
       "  <tbody>\n",
       "    <tr>\n",
       "      <th>0</th>\n",
       "      <td>1</td>\n",
       "      <td>x</td>\n",
       "    </tr>\n",
       "    <tr>\n",
       "      <th>1</th>\n",
       "      <td>2</td>\n",
       "      <td>y</td>\n",
       "    </tr>\n",
       "    <tr>\n",
       "      <th>4</th>\n",
       "      <td>3</td>\n",
       "      <td>z</td>\n",
       "    </tr>\n",
       "  </tbody>\n",
       "</table>\n",
       "</div>"
      ],
      "text/plain": [
       "   A  B\n",
       "0  1  x\n",
       "1  2  y\n",
       "4  3  z"
      ]
     },
     "execution_count": 36,
     "metadata": {},
     "output_type": "execute_result"
    }
   ],
   "source": [
    "df"
   ]
  },
  {
   "cell_type": "markdown",
   "id": "f1767e96",
   "metadata": {},
   "source": [
    "## replace "
   ]
  },
  {
   "cell_type": "code",
   "execution_count": 37,
   "id": "a643523e",
   "metadata": {},
   "outputs": [
    {
     "data": {
      "text/html": [
       "<div>\n",
       "<style scoped>\n",
       "    .dataframe tbody tr th:only-of-type {\n",
       "        vertical-align: middle;\n",
       "    }\n",
       "\n",
       "    .dataframe tbody tr th {\n",
       "        vertical-align: top;\n",
       "    }\n",
       "\n",
       "    .dataframe thead th {\n",
       "        text-align: right;\n",
       "    }\n",
       "</style>\n",
       "<table border=\"1\" class=\"dataframe\">\n",
       "  <thead>\n",
       "    <tr style=\"text-align: right;\">\n",
       "      <th></th>\n",
       "      <th>A</th>\n",
       "      <th>B</th>\n",
       "    </tr>\n",
       "  </thead>\n",
       "  <tbody>\n",
       "    <tr>\n",
       "      <th>0</th>\n",
       "      <td>1</td>\n",
       "      <td>X</td>\n",
       "    </tr>\n",
       "    <tr>\n",
       "      <th>1</th>\n",
       "      <td>2</td>\n",
       "      <td>Y</td>\n",
       "    </tr>\n",
       "    <tr>\n",
       "      <th>2</th>\n",
       "      <td>3</td>\n",
       "      <td>Z</td>\n",
       "    </tr>\n",
       "    <tr>\n",
       "      <th>3</th>\n",
       "      <td>4</td>\n",
       "      <td>X</td>\n",
       "    </tr>\n",
       "  </tbody>\n",
       "</table>\n",
       "</div>"
      ],
      "text/plain": [
       "   A  B\n",
       "0  1  X\n",
       "1  2  Y\n",
       "2  3  Z\n",
       "3  4  X"
      ]
     },
     "execution_count": 37,
     "metadata": {},
     "output_type": "execute_result"
    }
   ],
   "source": [
    "data = {\n",
    "    'A' : [1,2,3,4],\n",
    "    'B' : ['X','Y','Z','X']\n",
    "}\n",
    "\n",
    "df = pd.DataFrame(data)\n",
    "df"
   ]
  },
  {
   "cell_type": "code",
   "execution_count": 38,
   "id": "ec17d1d7",
   "metadata": {},
   "outputs": [],
   "source": [
    "df.replace({\"X\" : \"W\", 4:3, 3:2}, inplace = True)"
   ]
  },
  {
   "cell_type": "code",
   "execution_count": 39,
   "id": "4cf83150",
   "metadata": {},
   "outputs": [
    {
     "data": {
      "text/html": [
       "<div>\n",
       "<style scoped>\n",
       "    .dataframe tbody tr th:only-of-type {\n",
       "        vertical-align: middle;\n",
       "    }\n",
       "\n",
       "    .dataframe tbody tr th {\n",
       "        vertical-align: top;\n",
       "    }\n",
       "\n",
       "    .dataframe thead th {\n",
       "        text-align: right;\n",
       "    }\n",
       "</style>\n",
       "<table border=\"1\" class=\"dataframe\">\n",
       "  <thead>\n",
       "    <tr style=\"text-align: right;\">\n",
       "      <th></th>\n",
       "      <th>A</th>\n",
       "      <th>B</th>\n",
       "    </tr>\n",
       "  </thead>\n",
       "  <tbody>\n",
       "    <tr>\n",
       "      <th>0</th>\n",
       "      <td>1</td>\n",
       "      <td>W</td>\n",
       "    </tr>\n",
       "    <tr>\n",
       "      <th>1</th>\n",
       "      <td>2</td>\n",
       "      <td>Y</td>\n",
       "    </tr>\n",
       "    <tr>\n",
       "      <th>2</th>\n",
       "      <td>2</td>\n",
       "      <td>Z</td>\n",
       "    </tr>\n",
       "    <tr>\n",
       "      <th>3</th>\n",
       "      <td>3</td>\n",
       "      <td>W</td>\n",
       "    </tr>\n",
       "  </tbody>\n",
       "</table>\n",
       "</div>"
      ],
      "text/plain": [
       "   A  B\n",
       "0  1  W\n",
       "1  2  Y\n",
       "2  2  Z\n",
       "3  3  W"
      ]
     },
     "execution_count": 39,
     "metadata": {},
     "output_type": "execute_result"
    }
   ],
   "source": [
    "df"
   ]
  },
  {
   "cell_type": "markdown",
   "id": "b68c3065",
   "metadata": {},
   "source": [
    "# Data Aggregation and Grouping"
   ]
  },
  {
   "cell_type": "markdown",
   "id": "e1f9edee",
   "metadata": {},
   "source": [
    "# groupby()\n",
    "* Group data based on specified columns"
   ]
  },
  {
   "cell_type": "code",
   "execution_count": 44,
   "id": "a6e9bb69",
   "metadata": {},
   "outputs": [],
   "source": [
    "import pandas as pd\n",
    "\n",
    "data = {\n",
    "    \"cat\" : [\"A\", \"B\", \"D\", \"D\", \"A\"],\n",
    "    \"value\" : [10, 20, 15, 25, 30]\n",
    "}\n",
    "\n",
    "df = pd.DataFrame(data)"
   ]
  },
  {
   "cell_type": "code",
   "execution_count": 45,
   "id": "8689d85f",
   "metadata": {},
   "outputs": [],
   "source": [
    "grouped = df.groupby(\"cat\")"
   ]
  },
  {
   "cell_type": "code",
   "execution_count": 46,
   "id": "1b2a804f",
   "metadata": {},
   "outputs": [
    {
     "name": "stdout",
     "output_type": "stream",
     "text": [
      "A\n",
      "B\n",
      "D\n"
     ]
    }
   ],
   "source": [
    "for name, group in grouped:\n",
    "    print(name)\n",
    "    "
   ]
  },
  {
   "cell_type": "code",
   "execution_count": 47,
   "id": "0a33d842",
   "metadata": {},
   "outputs": [
    {
     "name": "stdout",
     "output_type": "stream",
     "text": [
      "  cat  value\n",
      "0   A     10\n",
      "4   A     30\n",
      "  cat  value\n",
      "1   B     20\n",
      "  cat  value\n",
      "2   D     15\n",
      "3   D     25\n"
     ]
    }
   ],
   "source": [
    "for name, group in grouped:\n",
    "    print(group)\n",
    "    "
   ]
  },
  {
   "cell_type": "code",
   "execution_count": 48,
   "id": "ab934240",
   "metadata": {},
   "outputs": [],
   "source": [
    "second_grouped = df.groupby(\"value\")"
   ]
  },
  {
   "cell_type": "code",
   "execution_count": 49,
   "id": "f8cc41d2",
   "metadata": {},
   "outputs": [
    {
     "name": "stdout",
     "output_type": "stream",
     "text": [
      "10\n",
      "15\n",
      "20\n",
      "25\n",
      "30\n"
     ]
    }
   ],
   "source": [
    "for name, group in second_grouped:\n",
    "    print(name)"
   ]
  },
  {
   "cell_type": "code",
   "execution_count": 50,
   "id": "0e161fb4",
   "metadata": {},
   "outputs": [
    {
     "name": "stdout",
     "output_type": "stream",
     "text": [
      "  cat  value\n",
      "0   A     10\n",
      "  cat  value\n",
      "2   D     15\n",
      "  cat  value\n",
      "1   B     20\n",
      "  cat  value\n",
      "3   D     25\n",
      "  cat  value\n",
      "4   A     30\n"
     ]
    }
   ],
   "source": [
    "for name, group in second_grouped:\n",
    "    print(group)"
   ]
  },
  {
   "cell_type": "markdown",
   "id": "e0525b54",
   "metadata": {},
   "source": [
    "## agg()"
   ]
  },
  {
   "cell_type": "code",
   "execution_count": 54,
   "id": "2e9e4936",
   "metadata": {},
   "outputs": [
    {
     "data": {
      "text/html": [
       "<div>\n",
       "<style scoped>\n",
       "    .dataframe tbody tr th:only-of-type {\n",
       "        vertical-align: middle;\n",
       "    }\n",
       "\n",
       "    .dataframe tbody tr th {\n",
       "        vertical-align: top;\n",
       "    }\n",
       "\n",
       "    .dataframe thead tr th {\n",
       "        text-align: left;\n",
       "    }\n",
       "\n",
       "    .dataframe thead tr:last-of-type th {\n",
       "        text-align: right;\n",
       "    }\n",
       "</style>\n",
       "<table border=\"1\" class=\"dataframe\">\n",
       "  <thead>\n",
       "    <tr>\n",
       "      <th></th>\n",
       "      <th colspan=\"2\" halign=\"left\">value</th>\n",
       "    </tr>\n",
       "    <tr>\n",
       "      <th></th>\n",
       "      <th>sum</th>\n",
       "      <th>mean</th>\n",
       "    </tr>\n",
       "    <tr>\n",
       "      <th>cat</th>\n",
       "      <th></th>\n",
       "      <th></th>\n",
       "    </tr>\n",
       "  </thead>\n",
       "  <tbody>\n",
       "    <tr>\n",
       "      <th>A</th>\n",
       "      <td>40</td>\n",
       "      <td>20.0</td>\n",
       "    </tr>\n",
       "    <tr>\n",
       "      <th>B</th>\n",
       "      <td>20</td>\n",
       "      <td>20.0</td>\n",
       "    </tr>\n",
       "    <tr>\n",
       "      <th>D</th>\n",
       "      <td>40</td>\n",
       "      <td>20.0</td>\n",
       "    </tr>\n",
       "  </tbody>\n",
       "</table>\n",
       "</div>"
      ],
      "text/plain": [
       "    value      \n",
       "      sum  mean\n",
       "cat            \n",
       "A      40  20.0\n",
       "B      20  20.0\n",
       "D      40  20.0"
      ]
     },
     "execution_count": 54,
     "metadata": {},
     "output_type": "execute_result"
    }
   ],
   "source": [
    "aggregated = grouped.agg({\"value\" : [\"sum\", \"mean\"]})\n",
    "aggregated"
   ]
  },
  {
   "cell_type": "markdown",
   "id": "9217bb9b",
   "metadata": {},
   "source": [
    "# Data Transformation"
   ]
  },
  {
   "cell_type": "markdown",
   "id": "d45313ba",
   "metadata": {},
   "source": [
    "## pivot_table()"
   ]
  },
  {
   "cell_type": "code",
   "execution_count": 56,
   "id": "0adc0417",
   "metadata": {},
   "outputs": [],
   "source": [
    "import pandas as pd\n",
    "\n",
    "data = {\n",
    "    \"Date\" : ['2022-01-01', '2022-01-01', '2022-01-02', '2022-01-02'],\n",
    "    \"Name\" : [\"A\", \"B\", \"A\", \"B\"],\n",
    "    \"Price\" : [10, 15, 20, 25]\n",
    "}\n",
    "\n",
    "df = pd.DataFrame(data)"
   ]
  },
  {
   "cell_type": "code",
   "execution_count": 57,
   "id": "1fe8d184",
   "metadata": {},
   "outputs": [
    {
     "data": {
      "text/html": [
       "<div>\n",
       "<style scoped>\n",
       "    .dataframe tbody tr th:only-of-type {\n",
       "        vertical-align: middle;\n",
       "    }\n",
       "\n",
       "    .dataframe tbody tr th {\n",
       "        vertical-align: top;\n",
       "    }\n",
       "\n",
       "    .dataframe thead th {\n",
       "        text-align: right;\n",
       "    }\n",
       "</style>\n",
       "<table border=\"1\" class=\"dataframe\">\n",
       "  <thead>\n",
       "    <tr style=\"text-align: right;\">\n",
       "      <th></th>\n",
       "      <th>Date</th>\n",
       "      <th>Name</th>\n",
       "      <th>Price</th>\n",
       "    </tr>\n",
       "  </thead>\n",
       "  <tbody>\n",
       "    <tr>\n",
       "      <th>0</th>\n",
       "      <td>2022-01-01</td>\n",
       "      <td>A</td>\n",
       "      <td>10</td>\n",
       "    </tr>\n",
       "    <tr>\n",
       "      <th>1</th>\n",
       "      <td>2022-01-01</td>\n",
       "      <td>B</td>\n",
       "      <td>15</td>\n",
       "    </tr>\n",
       "    <tr>\n",
       "      <th>2</th>\n",
       "      <td>2022-01-02</td>\n",
       "      <td>A</td>\n",
       "      <td>20</td>\n",
       "    </tr>\n",
       "    <tr>\n",
       "      <th>3</th>\n",
       "      <td>2022-01-02</td>\n",
       "      <td>B</td>\n",
       "      <td>25</td>\n",
       "    </tr>\n",
       "  </tbody>\n",
       "</table>\n",
       "</div>"
      ],
      "text/plain": [
       "         Date Name  Price\n",
       "0  2022-01-01    A     10\n",
       "1  2022-01-01    B     15\n",
       "2  2022-01-02    A     20\n",
       "3  2022-01-02    B     25"
      ]
     },
     "execution_count": 57,
     "metadata": {},
     "output_type": "execute_result"
    }
   ],
   "source": [
    "df"
   ]
  },
  {
   "cell_type": "code",
   "execution_count": 60,
   "id": "e0819a8e",
   "metadata": {},
   "outputs": [],
   "source": [
    "# Creating a pivot table for summarizing the data\n",
    "\n",
    "pivot = df.pivot_table(values = \"Price\", index = \"Date\", columns = \"Name\")"
   ]
  },
  {
   "cell_type": "code",
   "execution_count": 61,
   "id": "fe419611",
   "metadata": {},
   "outputs": [
    {
     "data": {
      "text/html": [
       "<div>\n",
       "<style scoped>\n",
       "    .dataframe tbody tr th:only-of-type {\n",
       "        vertical-align: middle;\n",
       "    }\n",
       "\n",
       "    .dataframe tbody tr th {\n",
       "        vertical-align: top;\n",
       "    }\n",
       "\n",
       "    .dataframe thead th {\n",
       "        text-align: right;\n",
       "    }\n",
       "</style>\n",
       "<table border=\"1\" class=\"dataframe\">\n",
       "  <thead>\n",
       "    <tr style=\"text-align: right;\">\n",
       "      <th>Name</th>\n",
       "      <th>A</th>\n",
       "      <th>B</th>\n",
       "    </tr>\n",
       "    <tr>\n",
       "      <th>Date</th>\n",
       "      <th></th>\n",
       "      <th></th>\n",
       "    </tr>\n",
       "  </thead>\n",
       "  <tbody>\n",
       "    <tr>\n",
       "      <th>2022-01-01</th>\n",
       "      <td>10</td>\n",
       "      <td>15</td>\n",
       "    </tr>\n",
       "    <tr>\n",
       "      <th>2022-01-02</th>\n",
       "      <td>20</td>\n",
       "      <td>25</td>\n",
       "    </tr>\n",
       "  </tbody>\n",
       "</table>\n",
       "</div>"
      ],
      "text/plain": [
       "Name         A   B\n",
       "Date              \n",
       "2022-01-01  10  15\n",
       "2022-01-02  20  25"
      ]
     },
     "execution_count": 61,
     "metadata": {},
     "output_type": "execute_result"
    }
   ],
   "source": [
    "pivot"
   ]
  },
  {
   "cell_type": "markdown",
   "id": "70cfec52",
   "metadata": {},
   "source": [
    "# Read/Write CSV/Excel files"
   ]
  },
  {
   "cell_type": "markdown",
   "id": "9c5540da",
   "metadata": {},
   "source": [
    "## Reading CSV File"
   ]
  },
  {
   "cell_type": "code",
   "execution_count": 62,
   "id": "d879d5f4",
   "metadata": {},
   "outputs": [
    {
     "name": "stdout",
     "output_type": "stream",
     "text": [
      "<class 'pandas.core.frame.DataFrame'>\n",
      "RangeIndex: 7296 entries, 0 to 7295\n",
      "Data columns (total 7 columns):\n",
      " #   Column                Non-Null Count  Dtype  \n",
      "---  ------                --------------  -----  \n",
      " 0   Period                7296 non-null   float64\n",
      " 1   Inst_sector           7296 non-null   object \n",
      " 2   Inst_sector_code      7296 non-null   int64  \n",
      " 3   Descriptor            7296 non-null   object \n",
      " 4   SNA08TRANS            7296 non-null   object \n",
      " 5   Asset_liability_code  7296 non-null   object \n",
      " 6   Values                7296 non-null   object \n",
      "dtypes: float64(1), int64(1), object(5)\n",
      "memory usage: 399.1+ KB\n"
     ]
    }
   ],
   "source": [
    "import pandas as pd\n",
    "\n",
    "df = pd.read_csv(\"Annual-balance-sheets-2007-2022-provisional.csv\")\n",
    "df.info()"
   ]
  },
  {
   "cell_type": "code",
   "execution_count": 63,
   "id": "7e5c241e",
   "metadata": {},
   "outputs": [
    {
     "data": {
      "text/html": [
       "<div>\n",
       "<style scoped>\n",
       "    .dataframe tbody tr th:only-of-type {\n",
       "        vertical-align: middle;\n",
       "    }\n",
       "\n",
       "    .dataframe tbody tr th {\n",
       "        vertical-align: top;\n",
       "    }\n",
       "\n",
       "    .dataframe thead th {\n",
       "        text-align: right;\n",
       "    }\n",
       "</style>\n",
       "<table border=\"1\" class=\"dataframe\">\n",
       "  <thead>\n",
       "    <tr style=\"text-align: right;\">\n",
       "      <th></th>\n",
       "      <th>Period</th>\n",
       "      <th>Inst_sector</th>\n",
       "      <th>Inst_sector_code</th>\n",
       "      <th>Descriptor</th>\n",
       "      <th>SNA08TRANS</th>\n",
       "      <th>Asset_liability_code</th>\n",
       "      <th>Values</th>\n",
       "    </tr>\n",
       "  </thead>\n",
       "  <tbody>\n",
       "    <tr>\n",
       "      <th>0</th>\n",
       "      <td>2007.03</td>\n",
       "      <td>Non-corporate business enterprises</td>\n",
       "      <td>121</td>\n",
       "      <td>Closing balance total assets</td>\n",
       "      <td>LE00000</td>\n",
       "      <td>A000000</td>\n",
       "      <td>345970</td>\n",
       "    </tr>\n",
       "    <tr>\n",
       "      <th>1</th>\n",
       "      <td>2007.03</td>\n",
       "      <td>Non-corporate business enterprises</td>\n",
       "      <td>121</td>\n",
       "      <td>Financial assets Closing balance Total financi...</td>\n",
       "      <td>LE00000</td>\n",
       "      <td>AFA0000</td>\n",
       "      <td>99771</td>\n",
       "    </tr>\n",
       "    <tr>\n",
       "      <th>2</th>\n",
       "      <td>2007.03</td>\n",
       "      <td>Non-corporate business enterprises</td>\n",
       "      <td>121</td>\n",
       "      <td>Financial assets Closing balance monetary gold...</td>\n",
       "      <td>LE00000</td>\n",
       "      <td>AFA0100</td>\n",
       "      <td>0</td>\n",
       "    </tr>\n",
       "    <tr>\n",
       "      <th>3</th>\n",
       "      <td>2007.03</td>\n",
       "      <td>Non-corporate business enterprises</td>\n",
       "      <td>121</td>\n",
       "      <td>Financial assets Closing balance currency and ...</td>\n",
       "      <td>LE00000</td>\n",
       "      <td>AFA0200</td>\n",
       "      <td>14773</td>\n",
       "    </tr>\n",
       "    <tr>\n",
       "      <th>4</th>\n",
       "      <td>2007.03</td>\n",
       "      <td>Non-corporate business enterprises</td>\n",
       "      <td>121</td>\n",
       "      <td>Financial assets Closing balance debt securities</td>\n",
       "      <td>LE00000</td>\n",
       "      <td>AFA0300</td>\n",
       "      <td>1267</td>\n",
       "    </tr>\n",
       "  </tbody>\n",
       "</table>\n",
       "</div>"
      ],
      "text/plain": [
       "    Period                         Inst_sector  Inst_sector_code  \\\n",
       "0  2007.03  Non-corporate business enterprises               121   \n",
       "1  2007.03  Non-corporate business enterprises               121   \n",
       "2  2007.03  Non-corporate business enterprises               121   \n",
       "3  2007.03  Non-corporate business enterprises               121   \n",
       "4  2007.03  Non-corporate business enterprises               121   \n",
       "\n",
       "                                          Descriptor SNA08TRANS  \\\n",
       "0                       Closing balance total assets    LE00000   \n",
       "1  Financial assets Closing balance Total financi...    LE00000   \n",
       "2  Financial assets Closing balance monetary gold...    LE00000   \n",
       "3  Financial assets Closing balance currency and ...    LE00000   \n",
       "4   Financial assets Closing balance debt securities    LE00000   \n",
       "\n",
       "  Asset_liability_code  Values  \n",
       "0              A000000  345970  \n",
       "1              AFA0000   99771  \n",
       "2              AFA0100       0  \n",
       "3              AFA0200   14773  \n",
       "4              AFA0300    1267  "
      ]
     },
     "execution_count": 63,
     "metadata": {},
     "output_type": "execute_result"
    }
   ],
   "source": [
    "df.head()"
   ]
  },
  {
   "cell_type": "code",
   "execution_count": 64,
   "id": "765634fb",
   "metadata": {},
   "outputs": [
    {
     "data": {
      "text/html": [
       "<div>\n",
       "<style scoped>\n",
       "    .dataframe tbody tr th:only-of-type {\n",
       "        vertical-align: middle;\n",
       "    }\n",
       "\n",
       "    .dataframe tbody tr th {\n",
       "        vertical-align: top;\n",
       "    }\n",
       "\n",
       "    .dataframe thead th {\n",
       "        text-align: right;\n",
       "    }\n",
       "</style>\n",
       "<table border=\"1\" class=\"dataframe\">\n",
       "  <thead>\n",
       "    <tr style=\"text-align: right;\">\n",
       "      <th></th>\n",
       "      <th>Period</th>\n",
       "      <th>Inst_sector</th>\n",
       "      <th>Inst_sector_code</th>\n",
       "      <th>Descriptor</th>\n",
       "      <th>SNA08TRANS</th>\n",
       "      <th>Asset_liability_code</th>\n",
       "      <th>Values</th>\n",
       "    </tr>\n",
       "  </thead>\n",
       "  <tbody>\n",
       "    <tr>\n",
       "      <th>0</th>\n",
       "      <td>2007.03</td>\n",
       "      <td>Non-corporate business enterprises</td>\n",
       "      <td>121</td>\n",
       "      <td>Closing balance total assets</td>\n",
       "      <td>LE00000</td>\n",
       "      <td>A000000</td>\n",
       "      <td>345970</td>\n",
       "    </tr>\n",
       "    <tr>\n",
       "      <th>1</th>\n",
       "      <td>2007.03</td>\n",
       "      <td>Non-corporate business enterprises</td>\n",
       "      <td>121</td>\n",
       "      <td>Financial assets Closing balance Total financi...</td>\n",
       "      <td>LE00000</td>\n",
       "      <td>AFA0000</td>\n",
       "      <td>99771</td>\n",
       "    </tr>\n",
       "    <tr>\n",
       "      <th>2</th>\n",
       "      <td>2007.03</td>\n",
       "      <td>Non-corporate business enterprises</td>\n",
       "      <td>121</td>\n",
       "      <td>Financial assets Closing balance monetary gold...</td>\n",
       "      <td>LE00000</td>\n",
       "      <td>AFA0100</td>\n",
       "      <td>0</td>\n",
       "    </tr>\n",
       "    <tr>\n",
       "      <th>3</th>\n",
       "      <td>2007.03</td>\n",
       "      <td>Non-corporate business enterprises</td>\n",
       "      <td>121</td>\n",
       "      <td>Financial assets Closing balance currency and ...</td>\n",
       "      <td>LE00000</td>\n",
       "      <td>AFA0200</td>\n",
       "      <td>14773</td>\n",
       "    </tr>\n",
       "    <tr>\n",
       "      <th>4</th>\n",
       "      <td>2007.03</td>\n",
       "      <td>Non-corporate business enterprises</td>\n",
       "      <td>121</td>\n",
       "      <td>Financial assets Closing balance debt securities</td>\n",
       "      <td>LE00000</td>\n",
       "      <td>AFA0300</td>\n",
       "      <td>1267</td>\n",
       "    </tr>\n",
       "    <tr>\n",
       "      <th>...</th>\n",
       "      <td>...</td>\n",
       "      <td>...</td>\n",
       "      <td>...</td>\n",
       "      <td>...</td>\n",
       "      <td>...</td>\n",
       "      <td>...</td>\n",
       "      <td>...</td>\n",
       "    </tr>\n",
       "    <tr>\n",
       "      <th>65</th>\n",
       "      <td>2007.03</td>\n",
       "      <td>Central bank</td>\n",
       "      <td>211</td>\n",
       "      <td>Financial liabilities Closing balance financia...</td>\n",
       "      <td>LE00000</td>\n",
       "      <td>AFL0700</td>\n",
       "      <td>0</td>\n",
       "    </tr>\n",
       "    <tr>\n",
       "      <th>66</th>\n",
       "      <td>2007.03</td>\n",
       "      <td>Central bank</td>\n",
       "      <td>211</td>\n",
       "      <td>Financial liabilities Closing balance other ac...</td>\n",
       "      <td>LE00000</td>\n",
       "      <td>AFL0800</td>\n",
       "      <td>397</td>\n",
       "    </tr>\n",
       "    <tr>\n",
       "      <th>67</th>\n",
       "      <td>2007.03</td>\n",
       "      <td>Central bank</td>\n",
       "      <td>211</td>\n",
       "      <td>Capital Account Closing balances Total non-fin...</td>\n",
       "      <td>LE00000</td>\n",
       "      <td>AN00000</td>\n",
       "      <td>56</td>\n",
       "    </tr>\n",
       "    <tr>\n",
       "      <th>68</th>\n",
       "      <td>2007.03</td>\n",
       "      <td>Central bank</td>\n",
       "      <td>211</td>\n",
       "      <td>Capital Account Closing balances Produced non-...</td>\n",
       "      <td>LE00000</td>\n",
       "      <td>AN10000</td>\n",
       "      <td>42</td>\n",
       "    </tr>\n",
       "    <tr>\n",
       "      <th>69</th>\n",
       "      <td>2007.03</td>\n",
       "      <td>Central bank</td>\n",
       "      <td>211</td>\n",
       "      <td>Capital Account Closing balances Non-produced ...</td>\n",
       "      <td>LE00000</td>\n",
       "      <td>AN20000</td>\n",
       "      <td>14</td>\n",
       "    </tr>\n",
       "  </tbody>\n",
       "</table>\n",
       "<p>70 rows × 7 columns</p>\n",
       "</div>"
      ],
      "text/plain": [
       "     Period                         Inst_sector  Inst_sector_code  \\\n",
       "0   2007.03  Non-corporate business enterprises               121   \n",
       "1   2007.03  Non-corporate business enterprises               121   \n",
       "2   2007.03  Non-corporate business enterprises               121   \n",
       "3   2007.03  Non-corporate business enterprises               121   \n",
       "4   2007.03  Non-corporate business enterprises               121   \n",
       "..      ...                                 ...               ...   \n",
       "65  2007.03                        Central bank               211   \n",
       "66  2007.03                        Central bank               211   \n",
       "67  2007.03                        Central bank               211   \n",
       "68  2007.03                        Central bank               211   \n",
       "69  2007.03                        Central bank               211   \n",
       "\n",
       "                                           Descriptor SNA08TRANS  \\\n",
       "0                        Closing balance total assets    LE00000   \n",
       "1   Financial assets Closing balance Total financi...    LE00000   \n",
       "2   Financial assets Closing balance monetary gold...    LE00000   \n",
       "3   Financial assets Closing balance currency and ...    LE00000   \n",
       "4    Financial assets Closing balance debt securities    LE00000   \n",
       "..                                                ...        ...   \n",
       "65  Financial liabilities Closing balance financia...    LE00000   \n",
       "66  Financial liabilities Closing balance other ac...    LE00000   \n",
       "67  Capital Account Closing balances Total non-fin...    LE00000   \n",
       "68  Capital Account Closing balances Produced non-...    LE00000   \n",
       "69  Capital Account Closing balances Non-produced ...    LE00000   \n",
       "\n",
       "   Asset_liability_code  Values  \n",
       "0               A000000  345970  \n",
       "1               AFA0000   99771  \n",
       "2               AFA0100       0  \n",
       "3               AFA0200   14773  \n",
       "4               AFA0300    1267  \n",
       "..                  ...     ...  \n",
       "65              AFL0700       0  \n",
       "66              AFL0800     397  \n",
       "67              AN00000      56  \n",
       "68              AN10000      42  \n",
       "69              AN20000      14  \n",
       "\n",
       "[70 rows x 7 columns]"
      ]
     },
     "execution_count": 64,
     "metadata": {},
     "output_type": "execute_result"
    }
   ],
   "source": [
    "df.head(70)"
   ]
  },
  {
   "cell_type": "code",
   "execution_count": 67,
   "id": "519488fb",
   "metadata": {},
   "outputs": [
    {
     "data": {
      "text/plain": [
       "Values\n",
       "0         1399\n",
       "..         305\n",
       "C          198\n",
       "16          15\n",
       "14          13\n",
       "          ... \n",
       "236081       1\n",
       "236423       1\n",
       "23672        1\n",
       "236819       1\n",
       "S            1\n",
       "Name: count, Length: 4091, dtype: int64"
      ]
     },
     "execution_count": 67,
     "metadata": {},
     "output_type": "execute_result"
    }
   ],
   "source": [
    "df.value_counts(\"Values\")"
   ]
  },
  {
   "cell_type": "markdown",
   "id": "dac3cbc1",
   "metadata": {},
   "source": [
    "## Writing CSV File"
   ]
  },
  {
   "cell_type": "code",
   "execution_count": 68,
   "id": "e2b5a038",
   "metadata": {},
   "outputs": [],
   "source": [
    "emps = {\n",
    "    \"Name\" : [\"Rahma Khan Isha\", \"Raiyaz Rifat\", \"SSB Rishi\", \"SZM Munna\"], #List as series to python\n",
    "    \"City\" : [\"Tangail\", \"Dhaka\", \"Chittagong\", \"Rangpur\"], #List as series to python\n",
    "    \"Age\" : [19, 21, 22, 22] #List as series to python\n",
    "}\n",
    "\n",
    "df = pd.DataFrame(emps)"
   ]
  },
  {
   "cell_type": "code",
   "execution_count": 69,
   "id": "8415d89f",
   "metadata": {},
   "outputs": [],
   "source": [
    "# Writing the df to a csv file\n",
    "\n",
    "df.to_csv(\"output.csv\", index = False)"
   ]
  },
  {
   "cell_type": "markdown",
   "id": "b918ad69",
   "metadata": {},
   "source": [
    "## Reading xcel files"
   ]
  },
  {
   "cell_type": "code",
   "execution_count": 70,
   "id": "698849c7",
   "metadata": {},
   "outputs": [
    {
     "name": "stdout",
     "output_type": "stream",
     "text": [
      "<class 'pandas.core.frame.DataFrame'>\n",
      "RangeIndex: 22 entries, 0 to 21\n",
      "Data columns (total 15 columns):\n",
      " #   Column       Non-Null Count  Dtype  \n",
      "---  ------       --------------  -----  \n",
      " 0   Unnamed: 0   0 non-null      float64\n",
      " 1   Unnamed: 1   12 non-null     object \n",
      " 2   Unnamed: 2   19 non-null     object \n",
      " 3   Unnamed: 3   14 non-null     object \n",
      " 4   Unnamed: 4   0 non-null      float64\n",
      " 5   Unnamed: 5   2 non-null      object \n",
      " 6   Unnamed: 6   18 non-null     object \n",
      " 7   Unnamed: 7   3 non-null      object \n",
      " 8   Unnamed: 8   0 non-null      float64\n",
      " 9   Unnamed: 9   0 non-null      float64\n",
      " 10  Unnamed: 10  17 non-null     object \n",
      " 11  Unnamed: 11  13 non-null     object \n",
      " 12  Unnamed: 12  0 non-null      float64\n",
      " 13  Unnamed: 13  9 non-null      object \n",
      " 14  Unnamed: 14  11 non-null     object \n",
      "dtypes: float64(5), object(10)\n",
      "memory usage: 2.7+ KB\n"
     ]
    }
   ],
   "source": [
    "df = pd.read_excel(\"Lec13-CSE115-Pointer-RRa-SupportFile.xlsx\")\n",
    "df.info()"
   ]
  },
  {
   "cell_type": "markdown",
   "id": "588417cc",
   "metadata": {},
   "source": [
    "## Writing excel files"
   ]
  },
  {
   "cell_type": "code",
   "execution_count": 71,
   "id": "24ba865d",
   "metadata": {},
   "outputs": [],
   "source": [
    "import pandas as pd\n",
    "\n",
    "# Creating a DataFrame from a Dictionary\n",
    "data = {\n",
    "    'Name' : ['Alice', 'Bob', 'Ihsanul'],\n",
    "    'Age' : [12,23,13],\n",
    "    'City' : [\"NY\", \"UK\", \"Dhaka\"]\n",
    "}\n",
    "\n",
    "df = pd.DataFrame(data)\n",
    "df.to_excel(\"xoutput.xlsx\", sheet_name = \"Sheet1\")"
   ]
  },
  {
   "cell_type": "code",
   "execution_count": null,
   "id": "202afaab",
   "metadata": {},
   "outputs": [],
   "source": []
  }
 ],
 "metadata": {
  "kernelspec": {
   "display_name": "Python 3 (ipykernel)",
   "language": "python",
   "name": "python3"
  },
  "language_info": {
   "codemirror_mode": {
    "name": "ipython",
    "version": 3
   },
   "file_extension": ".py",
   "mimetype": "text/x-python",
   "name": "python",
   "nbconvert_exporter": "python",
   "pygments_lexer": "ipython3",
   "version": "3.11.5"
  }
 },
 "nbformat": 4,
 "nbformat_minor": 5
}
