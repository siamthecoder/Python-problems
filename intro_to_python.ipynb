{
 "cells": [
  {
   "cell_type": "markdown",
   "id": "2f9cc57f",
   "metadata": {},
   "source": [
    "# Introduction to Python"
   ]
  },
  {
   "cell_type": "markdown",
   "id": "8777738e",
   "metadata": {},
   "source": [
    "## Python commenting out"
   ]
  },
  {
   "cell_type": "code",
   "execution_count": 1,
   "id": "0c6f6cae",
   "metadata": {},
   "outputs": [],
   "source": [
    "#This is single line comment"
   ]
  },
  {
   "cell_type": "code",
   "execution_count": 2,
   "id": "069619f3",
   "metadata": {},
   "outputs": [
    {
     "ename": "SyntaxError",
     "evalue": "incomplete input (3303912174.py, line 1)",
     "output_type": "error",
     "traceback": [
      "\u001b[1;36m  Cell \u001b[1;32mIn[2], line 1\u001b[1;36m\u001b[0m\n\u001b[1;33m    \"\"\"\"\u001b[0m\n\u001b[1;37m    ^\u001b[0m\n\u001b[1;31mSyntaxError\u001b[0m\u001b[1;31m:\u001b[0m incomplete input\n"
     ]
    }
   ],
   "source": [
    "\"\"\"\""
   ]
  },
  {
   "cell_type": "code",
   "execution_count": null,
   "id": "790b9272",
   "metadata": {},
   "outputs": [],
   "source": [
    "\"\"\"\n",
    "This is multiline comment xD\n",
    "\"\"\""
   ]
  },
  {
   "cell_type": "markdown",
   "id": "24f12ccf",
   "metadata": {},
   "source": [
    "# Python Variables"
   ]
  },
  {
   "cell_type": "code",
   "execution_count": null,
   "id": "3bb8cd92",
   "metadata": {},
   "outputs": [],
   "source": [
    "age = 35\n",
    "name = \"John Doe\"\n",
    "is_student = True\n",
    "cgpa = 2.0"
   ]
  },
  {
   "cell_type": "markdown",
   "id": "f20a3952",
   "metadata": {},
   "source": [
    "# Python Data Types"
   ]
  },
  {
   "cell_type": "code",
   "execution_count": null,
   "id": "f763ae03",
   "metadata": {},
   "outputs": [],
   "source": [
    "#integer\n",
    "num = 10\n",
    "print(type(num))"
   ]
  },
  {
   "cell_type": "code",
   "execution_count": null,
   "id": "c82b060c",
   "metadata": {},
   "outputs": [],
   "source": [
    "#float\n",
    "pi = 3.1416\n",
    "print(type(pi))"
   ]
  },
  {
   "cell_type": "code",
   "execution_count": null,
   "id": "45d625e8",
   "metadata": {},
   "outputs": [],
   "source": [
    "#string\n",
    "str = \"ML\"\n",
    "print(type(str))"
   ]
  },
  {
   "cell_type": "code",
   "execution_count": null,
   "id": "1c42f3ec",
   "metadata": {},
   "outputs": [],
   "source": [
    "#boolean\n",
    "is_true = False\n",
    "print(type(is_true))"
   ]
  },
  {
   "cell_type": "markdown",
   "id": "e592565b",
   "metadata": {},
   "source": [
    "# Python Casting"
   ]
  },
  {
   "cell_type": "code",
   "execution_count": null,
   "id": "7fddc3b5",
   "metadata": {},
   "outputs": [],
   "source": [
    "#specify a variable type\n",
    "x = int(2.75)\n",
    "y = int(5)\n",
    "z = int(\"25\")"
   ]
  },
  {
   "cell_type": "code",
   "execution_count": null,
   "id": "6ba7e7d9",
   "metadata": {},
   "outputs": [],
   "source": [
    "print(x, y, z)"
   ]
  },
  {
   "cell_type": "code",
   "execution_count": null,
   "id": "b2590474",
   "metadata": {},
   "outputs": [],
   "source": [
    "print(type(x), type(y), type(z))"
   ]
  },
  {
   "cell_type": "markdown",
   "id": "405cc1ed",
   "metadata": {},
   "source": [
    "# Python Input/Output"
   ]
  },
  {
   "cell_type": "code",
   "execution_count": null,
   "id": "a83357f6",
   "metadata": {},
   "outputs": [],
   "source": [
    "#user input\n",
    "name = input(\"Enter name: \")\n",
    "print(\"Welcome\", name)"
   ]
  },
  {
   "cell_type": "code",
   "execution_count": null,
   "id": "76250241",
   "metadata": {},
   "outputs": [],
   "source": [
    "#Reading numeric inputs\n",
    "num1 = int(input(\"Enter a: \"))\n",
    "num2 = int(input(\"Enter b: \"))\n",
    "adder = num1 + num2\n",
    "print(adder)"
   ]
  },
  {
   "cell_type": "code",
   "execution_count": 5,
   "id": "043eda3d",
   "metadata": {},
   "outputs": [
    {
     "name": "stdout",
     "output_type": "stream",
     "text": [
      "Enter a: 45\n",
      "Enter b: 9\n",
      "5.0\n"
     ]
    }
   ],
   "source": [
    "num1 = input(\"Enter a: \")\n",
    "num2 = input(\"Enter b: \")\n",
    "divider = float(num1) / int(num2)\n",
    "print(divider)"
   ]
  },
  {
   "cell_type": "code",
   "execution_count": 4,
   "id": "64de7207",
   "metadata": {},
   "outputs": [
    {
     "name": "stdout",
     "output_type": "stream",
     "text": [
      "Enter two numbers: 5 5\n",
      "25\n"
     ]
    }
   ],
   "source": [
    "#Taking multiple inputs\n",
    "x, y = input(\"Enter two numbers: \").split()\n",
    "multiply = int(x) * int(y)\n",
    "print(multiply)"
   ]
  },
  {
   "cell_type": "markdown",
   "id": "de73e506",
   "metadata": {},
   "source": [
    "# Python Strings"
   ]
  },
  {
   "cell_type": "code",
   "execution_count": 13,
   "id": "8d524500",
   "metadata": {},
   "outputs": [
    {
     "name": "stdout",
     "output_type": "stream",
     "text": [
      "ML//CSE!"
     ]
    }
   ],
   "source": [
    "#string concatation\n",
    "str1 = 'ML'\n",
    "str2 = 'CSE'\n",
    "print(str1,'',str2, sep = '/', end = '!')"
   ]
  },
  {
   "cell_type": "code",
   "execution_count": 14,
   "id": "bb105993",
   "metadata": {},
   "outputs": [
    {
     "data": {
      "text/plain": [
       "3"
      ]
     },
     "execution_count": 14,
     "metadata": {},
     "output_type": "execute_result"
    }
   ],
   "source": [
    "#length\n",
    "len(str2)"
   ]
  },
  {
   "cell_type": "code",
   "execution_count": 15,
   "id": "b6f10c36",
   "metadata": {},
   "outputs": [
    {
     "data": {
      "text/plain": [
       "'E'"
      ]
     },
     "execution_count": 15,
     "metadata": {},
     "output_type": "execute_result"
    }
   ],
   "source": [
    "str2[2]"
   ]
  },
  {
   "cell_type": "code",
   "execution_count": 16,
   "id": "cb1c8575",
   "metadata": {},
   "outputs": [
    {
     "name": "stdout",
     "output_type": "stream",
     "text": [
      "Machin\n",
      "Compu\n"
     ]
    }
   ],
   "source": [
    "#string slicing\n",
    "str3 = \"Machine Learning\"\n",
    "str4 = \"Computer Science\"\n",
    "print(str3[0:6])\n",
    "print(str4[0:5])"
   ]
  },
  {
   "cell_type": "code",
   "execution_count": 17,
   "id": "3ea07f16",
   "metadata": {},
   "outputs": [
    {
     "data": {
      "text/plain": [
       "'MACHINE LEARNING'"
      ]
     },
     "execution_count": 17,
     "metadata": {},
     "output_type": "execute_result"
    }
   ],
   "source": [
    "str3.upper()"
   ]
  },
  {
   "cell_type": "code",
   "execution_count": 18,
   "id": "07b8f626",
   "metadata": {},
   "outputs": [
    {
     "data": {
      "text/plain": [
       "'computer science'"
      ]
     },
     "execution_count": 18,
     "metadata": {},
     "output_type": "execute_result"
    }
   ],
   "source": [
    "str4.lower()"
   ]
  },
  {
   "cell_type": "code",
   "execution_count": 19,
   "id": "d3a05fab",
   "metadata": {},
   "outputs": [
    {
     "data": {
      "text/plain": [
       "4"
      ]
     },
     "execution_count": 19,
     "metadata": {},
     "output_type": "execute_result"
    }
   ],
   "source": [
    "str4.find(\"u\")"
   ]
  },
  {
   "cell_type": "code",
   "execution_count": 20,
   "id": "4938817e",
   "metadata": {},
   "outputs": [
    {
     "data": {
      "text/plain": [
       "'sksmkdls'"
      ]
     },
     "execution_count": 20,
     "metadata": {},
     "output_type": "execute_result"
    }
   ],
   "source": [
    "test = \"          sksmkdls \"\n",
    "test.strip()"
   ]
  },
  {
   "cell_type": "markdown",
   "id": "ab3ade30",
   "metadata": {},
   "source": [
    "# Python Lists"
   ]
  },
  {
   "cell_type": "code",
   "execution_count": 41,
   "id": "8ffe0641",
   "metadata": {},
   "outputs": [],
   "source": [
    "numbers = [1, 2, 5, 7, 8, 9, 4, 3]\n",
    "ICC = [\"BAN\", \"IND\", \"PAK\", \"SL\", \"ENG\", \"NZ\", \"SA\", \"AUS\", \"ZIM\"]\n",
    "mixed = [75, 28, 2, 15, 30]"
   ]
  },
  {
   "cell_type": "code",
   "execution_count": 42,
   "id": "4cd9c1d4",
   "metadata": {},
   "outputs": [
    {
     "name": "stdout",
     "output_type": "stream",
     "text": [
      "[1, 2, 5, 7, 8, 9, 4, 3]\n",
      "['BAN', 'IND', 'PAK', 'SL', 'ENG', 'NZ', 'SA', 'AUS', 'ZIM']\n",
      "[75, 28, 2, 15, 30]\n"
     ]
    }
   ],
   "source": [
    "print(numbers)\n",
    "print(ICC)\n",
    "print(mixed)"
   ]
  },
  {
   "cell_type": "code",
   "execution_count": 43,
   "id": "de0df949",
   "metadata": {},
   "outputs": [
    {
     "data": {
      "text/plain": [
       "9"
      ]
     },
     "execution_count": 43,
     "metadata": {},
     "output_type": "execute_result"
    }
   ],
   "source": [
    "len(ICC)"
   ]
  },
  {
   "cell_type": "code",
   "execution_count": 32,
   "id": "6743abcf",
   "metadata": {},
   "outputs": [],
   "source": [
    "numbers.extend([19, 20, 21])"
   ]
  },
  {
   "cell_type": "code",
   "execution_count": 33,
   "id": "cb4c6478",
   "metadata": {},
   "outputs": [
    {
     "data": {
      "text/plain": [
       "[1, 2, 5, 7, 8, 9, 4, 3, 19, 20, 21]"
      ]
     },
     "execution_count": 33,
     "metadata": {},
     "output_type": "execute_result"
    }
   ],
   "source": [
    "numbers"
   ]
  },
  {
   "cell_type": "code",
   "execution_count": 34,
   "id": "d37f0594",
   "metadata": {},
   "outputs": [],
   "source": [
    "numbers.sort()"
   ]
  },
  {
   "cell_type": "code",
   "execution_count": 35,
   "id": "ef8241e7",
   "metadata": {},
   "outputs": [
    {
     "data": {
      "text/plain": [
       "[1, 2, 3, 4, 5, 7, 8, 9, 19, 20, 21]"
      ]
     },
     "execution_count": 35,
     "metadata": {},
     "output_type": "execute_result"
    }
   ],
   "source": [
    "numbers"
   ]
  },
  {
   "cell_type": "markdown",
   "id": "7ba4494f",
   "metadata": {},
   "source": [
    "# For Loop"
   ]
  },
  {
   "cell_type": "code",
   "execution_count": 38,
   "id": "89ef1746",
   "metadata": {},
   "outputs": [
    {
     "name": "stdout",
     "output_type": "stream",
     "text": [
      "6\n",
      "9\n",
      "12\n",
      "15\n",
      "18\n",
      "21\n",
      "24\n",
      "27\n"
     ]
    }
   ],
   "source": [
    "for i in range(6, 30, 3):\n",
    "    print(i)"
   ]
  }
 ],
 "metadata": {
  "kernelspec": {
   "display_name": "Python 3 (ipykernel)",
   "language": "python",
   "name": "python3"
  },
  "language_info": {
   "codemirror_mode": {
    "name": "ipython",
    "version": 3
   },
   "file_extension": ".py",
   "mimetype": "text/x-python",
   "name": "python",
   "nbconvert_exporter": "python",
   "pygments_lexer": "ipython3",
   "version": "3.11.5"
  }
 },
 "nbformat": 4,
 "nbformat_minor": 5
}
