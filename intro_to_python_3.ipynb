{
 "cells": [
  {
   "cell_type": "markdown",
   "id": "68b1b15e",
   "metadata": {},
   "source": [
    "# Python Set\n",
    "\n",
    "* Unordered\n",
    "* Unchangeable\n",
    "* Dont Allow duplicates\n",
    "* Data type \"set\""
   ]
  },
  {
   "cell_type": "code",
   "execution_count": 8,
   "id": "2de9e40b",
   "metadata": {},
   "outputs": [
    {
     "name": "stdout",
     "output_type": "stream",
     "text": [
      "2000\n",
      "1\n",
      "Hola\n",
      "200\n"
     ]
    }
   ],
   "source": [
    "#Don't allow duplicates\n",
    "\n",
    "mySet = {1, 2000, 200, \"Hola\", True, True}\n",
    "\n",
    "for i in mySet:\n",
    "    print(i) #Unordered"
   ]
  },
  {
   "cell_type": "code",
   "execution_count": 9,
   "id": "33711d57",
   "metadata": {},
   "outputs": [],
   "source": [
    "mySet = {25, 50, 75, 100}"
   ]
  },
  {
   "cell_type": "code",
   "execution_count": 10,
   "id": "2462973b",
   "metadata": {},
   "outputs": [],
   "source": [
    "mySet.add(125)"
   ]
  },
  {
   "cell_type": "code",
   "execution_count": 11,
   "id": "095b8cac",
   "metadata": {},
   "outputs": [
    {
     "data": {
      "text/plain": [
       "{25, 50, 75, 100, 125}"
      ]
     },
     "execution_count": 11,
     "metadata": {},
     "output_type": "execute_result"
    }
   ],
   "source": [
    "mySet"
   ]
  },
  {
   "cell_type": "code",
   "execution_count": 12,
   "id": "6e88cf02",
   "metadata": {},
   "outputs": [],
   "source": [
    "mySet.remove(25)"
   ]
  },
  {
   "cell_type": "code",
   "execution_count": 13,
   "id": "b17b4ac0",
   "metadata": {},
   "outputs": [
    {
     "data": {
      "text/plain": [
       "{50, 75, 100, 125}"
      ]
     },
     "execution_count": 13,
     "metadata": {},
     "output_type": "execute_result"
    }
   ],
   "source": [
    "mySet"
   ]
  },
  {
   "cell_type": "code",
   "execution_count": null,
   "id": "1f7f1a85",
   "metadata": {},
   "outputs": [],
   "source": []
  }
 ],
 "metadata": {
  "kernelspec": {
   "display_name": "Python 3 (ipykernel)",
   "language": "python",
   "name": "python3"
  },
  "language_info": {
   "codemirror_mode": {
    "name": "ipython",
    "version": 3
   },
   "file_extension": ".py",
   "mimetype": "text/x-python",
   "name": "python",
   "nbconvert_exporter": "python",
   "pygments_lexer": "ipython3",
   "version": "3.11.5"
  }
 },
 "nbformat": 4,
 "nbformat_minor": 5
}
