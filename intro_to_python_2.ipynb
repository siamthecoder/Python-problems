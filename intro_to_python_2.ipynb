{
 "cells": [
  {
   "cell_type": "markdown",
   "id": "9cd4fcd3",
   "metadata": {},
   "source": [
    "# Python List\n"
   ]
  },
  {
   "cell_type": "code",
   "execution_count": 3,
   "id": "d6da8720",
   "metadata": {},
   "outputs": [
    {
     "name": "stdout",
     "output_type": "stream",
     "text": [
      "[1, 2, 3, 4, 5]\n",
      "['a', 'b', 'c']\n",
      "[1, 'a', 3, 'b', True, 4.5]\n"
     ]
    }
   ],
   "source": [
    "list1 = [1, 2, 3, 4, 5]\n",
    "list2 = [\"a\", \"b\", \"c\"]\n",
    "list3 = [1, 'a', 3, 'b', True, 4.5]\n",
    "\n",
    "print(list1)\n",
    "print(list2)\n",
    "print(list3)"
   ]
  },
  {
   "cell_type": "code",
   "execution_count": 5,
   "id": "89089495",
   "metadata": {},
   "outputs": [
    {
     "name": "stdout",
     "output_type": "stream",
     "text": [
      "[1, 2, 3, 4, 5]\n",
      "[2, 3, 4, 5]\n",
      "[1, 2, 3, 4, 5]\n",
      "[1, 3, 5]\n"
     ]
    }
   ],
   "source": [
    "#Slicing\n",
    "print(list1[0:5])\n",
    "print(list1[1:5])\n",
    "print(list1[:5])\n",
    "print(list1[::2])"
   ]
  },
  {
   "cell_type": "markdown",
   "id": "8b477c81",
   "metadata": {},
   "source": [
    "## List operation"
   ]
  },
  {
   "cell_type": "code",
   "execution_count": 6,
   "id": "15f12959",
   "metadata": {},
   "outputs": [],
   "source": [
    "list1.append(7)"
   ]
  },
  {
   "cell_type": "code",
   "execution_count": 7,
   "id": "1651dabb",
   "metadata": {},
   "outputs": [
    {
     "data": {
      "text/plain": [
       "[1, 2, 3, 4, 5, 7]"
      ]
     },
     "execution_count": 7,
     "metadata": {},
     "output_type": "execute_result"
    }
   ],
   "source": [
    "list1"
   ]
  },
  {
   "cell_type": "code",
   "execution_count": 8,
   "id": "46ff4699",
   "metadata": {},
   "outputs": [],
   "source": [
    "ICC = [\"SA\", \"ENG\", \"NZ\", \"AUS\", \"BAN\", \"SL\", \"PAK\", \"IND\", \"AFG\"]"
   ]
  },
  {
   "cell_type": "code",
   "execution_count": 9,
   "id": "f667d288",
   "metadata": {},
   "outputs": [],
   "source": [
    "ICC.append(\"NED\")"
   ]
  },
  {
   "cell_type": "code",
   "execution_count": 10,
   "id": "384bc2cc",
   "metadata": {},
   "outputs": [
    {
     "data": {
      "text/plain": [
       "['SA', 'ENG', 'NZ', 'AUS', 'BAN', 'SL', 'PAK', 'IND', 'AFG', 'NED']"
      ]
     },
     "execution_count": 10,
     "metadata": {},
     "output_type": "execute_result"
    }
   ],
   "source": [
    "ICC"
   ]
  },
  {
   "cell_type": "code",
   "execution_count": 11,
   "id": "7427645e",
   "metadata": {},
   "outputs": [],
   "source": [
    "ICC.remove(\"AFG\")"
   ]
  },
  {
   "cell_type": "code",
   "execution_count": 12,
   "id": "86b141e4",
   "metadata": {},
   "outputs": [
    {
     "data": {
      "text/plain": [
       "['SA', 'ENG', 'NZ', 'AUS', 'BAN', 'SL', 'PAK', 'IND', 'NED']"
      ]
     },
     "execution_count": 12,
     "metadata": {},
     "output_type": "execute_result"
    }
   ],
   "source": [
    "ICC"
   ]
  },
  {
   "cell_type": "code",
   "execution_count": 13,
   "id": "4b44b19c",
   "metadata": {},
   "outputs": [],
   "source": [
    "ICC.extend([\"ZIM\", \"IRE\", \"AFG\"])"
   ]
  },
  {
   "cell_type": "code",
   "execution_count": 14,
   "id": "68f608d2",
   "metadata": {},
   "outputs": [
    {
     "data": {
      "text/plain": [
       "['SA',\n",
       " 'ENG',\n",
       " 'NZ',\n",
       " 'AUS',\n",
       " 'BAN',\n",
       " 'SL',\n",
       " 'PAK',\n",
       " 'IND',\n",
       " 'NED',\n",
       " 'ZIM',\n",
       " 'IRE',\n",
       " 'AFG']"
      ]
     },
     "execution_count": 14,
     "metadata": {},
     "output_type": "execute_result"
    }
   ],
   "source": [
    "ICC"
   ]
  },
  {
   "cell_type": "code",
   "execution_count": 15,
   "id": "78cab09a",
   "metadata": {},
   "outputs": [
    {
     "data": {
      "text/plain": [
       "'AFG'"
      ]
     },
     "execution_count": 15,
     "metadata": {},
     "output_type": "execute_result"
    }
   ],
   "source": [
    "ICC.pop()"
   ]
  },
  {
   "cell_type": "code",
   "execution_count": 16,
   "id": "44a8cc02",
   "metadata": {},
   "outputs": [],
   "source": [
    "ICC.sort()"
   ]
  },
  {
   "cell_type": "code",
   "execution_count": 17,
   "id": "6d796980",
   "metadata": {},
   "outputs": [
    {
     "data": {
      "text/plain": [
       "['AUS', 'BAN', 'ENG', 'IND', 'IRE', 'NED', 'NZ', 'PAK', 'SA', 'SL', 'ZIM']"
      ]
     },
     "execution_count": 17,
     "metadata": {},
     "output_type": "execute_result"
    }
   ],
   "source": [
    "ICC"
   ]
  },
  {
   "cell_type": "markdown",
   "id": "48030446",
   "metadata": {},
   "source": [
    "### Looping with Lists\n"
   ]
  },
  {
   "cell_type": "code",
   "execution_count": 19,
   "id": "f3ecb5aa",
   "metadata": {},
   "outputs": [
    {
     "name": "stdout",
     "output_type": "stream",
     "text": [
      "Hi! Ihsanul\n",
      "Hi! Siam\n",
      "Hi! Maisha\n",
      "Hi! Samiul\n",
      "Hi! Saadi\n",
      "Hi! Tamanna\n",
      "Hi! Rifat\n"
     ]
    }
   ],
   "source": [
    "students = [\"Ihsanul\", \"Siam\", \"Maisha\", \"Samiul\", \"Saadi\", \"Tamanna\", \"Rifat\"]\n",
    "for name in students:\n",
    "    print(\"Hi!\", name)"
   ]
  },
  {
   "cell_type": "markdown",
   "id": "aa2116ae",
   "metadata": {},
   "source": [
    "# Enumerate in Loop"
   ]
  },
  {
   "cell_type": "code",
   "execution_count": 21,
   "id": "12935f5e",
   "metadata": {},
   "outputs": [
    {
     "name": "stdout",
     "output_type": "stream",
     "text": [
      "Student 1 : Ihsanul\n",
      "Student 2 : Siam\n",
      "Student 3 : Maisha\n",
      "Student 4 : Samiul\n",
      "Student 5 : Saadi\n",
      "Student 6 : Tamanna\n",
      "Student 7 : Rifat\n"
     ]
    }
   ],
   "source": [
    "for index, name in enumerate(students):\n",
    "    print(\"Student\", index + 1, \":\", name)"
   ]
  },
  {
   "cell_type": "code",
   "execution_count": 22,
   "id": "c8a40a02",
   "metadata": {},
   "outputs": [],
   "source": [
    "#using len for index"
   ]
  },
  {
   "cell_type": "code",
   "execution_count": 24,
   "id": "e38a5816",
   "metadata": {},
   "outputs": [
    {
     "name": "stdout",
     "output_type": "stream",
     "text": [
      "0\n",
      "1\n",
      "2\n",
      "3\n",
      "4\n",
      "5\n",
      "6\n"
     ]
    }
   ],
   "source": [
    "for i in range(len(students)):\n",
    "    print(i)"
   ]
  },
  {
   "cell_type": "code",
   "execution_count": 25,
   "id": "3365fd3c",
   "metadata": {},
   "outputs": [
    {
     "name": "stdout",
     "output_type": "stream",
     "text": [
      "[22.20408163265306, 27.053802773967377, 34.049030604069856, 7.5701373222910275]\n"
     ]
    }
   ],
   "source": [
    "#Appending List\n",
    "height = [1.75, 1.62, 1.58, 2.57]\n",
    "weight = [68, 71, 85, 50]\n",
    "bmi_values = []\n",
    "\n",
    "for i in range(len(height)):\n",
    "    bmi = weight[i]/height[i]**2\n",
    "    bmi_values.append(bmi)\n",
    "    \n",
    "print(bmi_values)"
   ]
  },
  {
   "cell_type": "code",
   "execution_count": 27,
   "id": "b99cc390",
   "metadata": {},
   "outputs": [
    {
     "name": "stdout",
     "output_type": "stream",
     "text": [
      "[22.204, 27.054, 34.049, 7.57]\n"
     ]
    }
   ],
   "source": [
    "#round function\n",
    "height = [1.75, 1.62, 1.58, 2.57]\n",
    "weight = [68, 71, 85, 50]\n",
    "bmi_values = []\n",
    "\n",
    "for i in range(len(height)):\n",
    "    bmi = round(weight[i]/(height[i]**2), 3)\n",
    "    bmi_values.append(bmi)\n",
    "    \n",
    "print(bmi_values)"
   ]
  },
  {
   "cell_type": "markdown",
   "id": "e1ac6482",
   "metadata": {},
   "source": [
    "# Python Tuples\n",
    "* Ordered\n",
    "* Unchangeable\n",
    "* Allow Duplicates\n",
    "* Data type 'tuple'"
   ]
  },
  {
   "cell_type": "code",
   "execution_count": 29,
   "id": "5bc9fe32",
   "metadata": {},
   "outputs": [
    {
     "name": "stdout",
     "output_type": "stream",
     "text": [
      "(1, 2, 3, True, 'Hola')\n",
      "True\n"
     ]
    }
   ],
   "source": [
    "#Accessing tuple items\n",
    "my_tuple = (1, 2, 3, True, \"Hola\")\n",
    "print(my_tuple)\n",
    "print(my_tuple[3])\n"
   ]
  },
  {
   "cell_type": "code",
   "execution_count": 34,
   "id": "ddfe9bc5",
   "metadata": {},
   "outputs": [
    {
     "name": "stdout",
     "output_type": "stream",
     "text": [
      "1 2 4 4\n"
     ]
    }
   ],
   "source": [
    "#Unpacking + Duplicates\n",
    "\n",
    "ICC = (1,2,4,4)\n",
    "\n",
    "a,b,c,d = ICC\n",
    "print(a,b,c,d)"
   ]
  }
 ],
 "metadata": {
  "kernelspec": {
   "display_name": "Python 3 (ipykernel)",
   "language": "python",
   "name": "python3"
  },
  "language_info": {
   "codemirror_mode": {
    "name": "ipython",
    "version": 3
   },
   "file_extension": ".py",
   "mimetype": "text/x-python",
   "name": "python",
   "nbconvert_exporter": "python",
   "pygments_lexer": "ipython3",
   "version": "3.11.5"
  }
 },
 "nbformat": 4,
 "nbformat_minor": 5
}
