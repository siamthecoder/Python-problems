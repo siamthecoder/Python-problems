{
 "cells": [
  {
   "cell_type": "markdown",
   "id": "981cda88",
   "metadata": {},
   "source": [
    "# Python Dictionary\n",
    "* Key : Value pair wise"
   ]
  },
  {
   "cell_type": "code",
   "execution_count": 7,
   "id": "38d96e0a",
   "metadata": {},
   "outputs": [
    {
     "data": {
      "text/plain": [
       "{'version': 'Redmi Note 11', 'processor': 'Snapdragon', 'gpu': 'adreno'}"
      ]
     },
     "execution_count": 7,
     "metadata": {},
     "output_type": "execute_result"
    }
   ],
   "source": [
    "xiaomi =  {\n",
    "    \"version\" : \"Redmi Note 11\",\n",
    "    \"processor\" : \"Snapdragon\",\n",
    "    \"gpu\" : \"adreno\"\n",
    "}\n",
    "\n",
    "xiaomi"
   ]
  },
  {
   "cell_type": "code",
   "execution_count": 8,
   "id": "e3dce2e7",
   "metadata": {},
   "outputs": [
    {
     "name": "stdout",
     "output_type": "stream",
     "text": [
      "Redmi Note 11\n"
     ]
    }
   ],
   "source": [
    "print(xiaomi[\"version\"])"
   ]
  },
  {
   "cell_type": "code",
   "execution_count": 12,
   "id": "206c3db5",
   "metadata": {},
   "outputs": [
    {
     "data": {
      "text/plain": [
       "['Siam', 'Saadi', 'Maisha']"
      ]
     },
     "execution_count": 12,
     "metadata": {},
     "output_type": "execute_result"
    }
   ],
   "source": [
    "dataque[\"students\"]"
   ]
  },
  {
   "cell_type": "code",
   "execution_count": 13,
   "id": "09c1a693",
   "metadata": {},
   "outputs": [
    {
     "data": {
      "text/plain": [
       "{'students': ['Siam', 'Saadi', 'Maisha'],\n",
       " 'instructors': ['Ihsanul', 'Tamanna'],\n",
       " 'address': ['Khilkhet', 'Comilla', 'Chittagong']}"
      ]
     },
     "execution_count": 13,
     "metadata": {},
     "output_type": "execute_result"
    }
   ],
   "source": [
    "dataque"
   ]
  },
  {
   "cell_type": "code",
   "execution_count": 14,
   "id": "56ade839",
   "metadata": {},
   "outputs": [
    {
     "name": "stdout",
     "output_type": "stream",
     "text": [
      "Siam\n",
      "Saadi\n",
      "Maisha\n"
     ]
    }
   ],
   "source": [
    "for i in dataque[\"students\"]:\n",
    "    print(i)"
   ]
  },
  {
   "cell_type": "code",
   "execution_count": 16,
   "id": "dbc683b5",
   "metadata": {},
   "outputs": [],
   "source": [
    "#adding\n",
    "dataque[\"Major\"] = [\"CSE\", \"ECE\", \"EEE\"]"
   ]
  },
  {
   "cell_type": "code",
   "execution_count": 17,
   "id": "9274fd6d",
   "metadata": {},
   "outputs": [
    {
     "data": {
      "text/plain": [
       "{'students': ['Siam', 'Saadi', 'Maisha'],\n",
       " 'instructors': ['Ihsanul', 'Tamanna'],\n",
       " 'address': ['Khilkhet', 'Comilla', 'Chittagong'],\n",
       " 'Major': ['CSE', 'ECE', 'EEE']}"
      ]
     },
     "execution_count": 17,
     "metadata": {},
     "output_type": "execute_result"
    }
   ],
   "source": [
    "dataque"
   ]
  },
  {
   "cell_type": "code",
   "execution_count": 18,
   "id": "aaaece37",
   "metadata": {},
   "outputs": [],
   "source": [
    "del dataque[\"Major\"]"
   ]
  },
  {
   "cell_type": "code",
   "execution_count": 19,
   "id": "d639c2e7",
   "metadata": {},
   "outputs": [
    {
     "data": {
      "text/plain": [
       "{'students': ['Siam', 'Saadi', 'Maisha'],\n",
       " 'instructors': ['Ihsanul', 'Tamanna'],\n",
       " 'address': ['Khilkhet', 'Comilla', 'Chittagong']}"
      ]
     },
     "execution_count": 19,
     "metadata": {},
     "output_type": "execute_result"
    }
   ],
   "source": [
    "dataque"
   ]
  },
  {
   "cell_type": "code",
   "execution_count": 20,
   "id": "2af71867",
   "metadata": {},
   "outputs": [],
   "source": [
    "#Dictionary methods\n",
    "\n",
    "myKey = dataque.keys()\n",
    "myValue = dataque.values()\n",
    "myItem = dataque.items()"
   ]
  },
  {
   "cell_type": "code",
   "execution_count": 21,
   "id": "490c18ca",
   "metadata": {},
   "outputs": [
    {
     "name": "stdout",
     "output_type": "stream",
     "text": [
      "dict_keys(['students', 'instructors', 'address'])\n"
     ]
    }
   ],
   "source": [
    "print(myKey)"
   ]
  },
  {
   "cell_type": "code",
   "execution_count": 22,
   "id": "052c4daa",
   "metadata": {},
   "outputs": [
    {
     "name": "stdout",
     "output_type": "stream",
     "text": [
      "dict_values([['Siam', 'Saadi', 'Maisha'], ['Ihsanul', 'Tamanna'], ['Khilkhet', 'Comilla', 'Chittagong']])\n"
     ]
    }
   ],
   "source": [
    "print(myValue)"
   ]
  },
  {
   "cell_type": "code",
   "execution_count": 23,
   "id": "9cf4669d",
   "metadata": {},
   "outputs": [
    {
     "name": "stdout",
     "output_type": "stream",
     "text": [
      "dict_items([('students', ['Siam', 'Saadi', 'Maisha']), ('instructors', ['Ihsanul', 'Tamanna']), ('address', ['Khilkhet', 'Comilla', 'Chittagong'])])\n"
     ]
    }
   ],
   "source": [
    "print(myItem)"
   ]
  },
  {
   "cell_type": "markdown",
   "id": "70d6a632",
   "metadata": {},
   "source": [
    "# Conditional "
   ]
  },
  {
   "cell_type": "code",
   "execution_count": 24,
   "id": "a3753d5a",
   "metadata": {},
   "outputs": [
    {
     "name": "stdout",
     "output_type": "stream",
     "text": [
      "a is greater than 5 but less than 10\n"
     ]
    }
   ],
   "source": [
    "a = 8\n",
    "\n",
    "if a > 10:\n",
    "    print(\"a is greater than 10\")\n",
    "elif a > 5:\n",
    "    print(\"a is greater than 5 but less than 10\")\n",
    "else:\n",
    "    print(\"a is not grater than 5\")\n",
    "    "
   ]
  }
 ],
 "metadata": {
  "kernelspec": {
   "display_name": "Python 3 (ipykernel)",
   "language": "python",
   "name": "python3"
  },
  "language_info": {
   "codemirror_mode": {
    "name": "ipython",
    "version": 3
   },
   "file_extension": ".py",
   "mimetype": "text/x-python",
   "name": "python",
   "nbconvert_exporter": "python",
   "pygments_lexer": "ipython3",
   "version": "3.11.5"
  }
 },
 "nbformat": 4,
 "nbformat_minor": 5
}
