{
 "cells": [
  {
   "cell_type": "markdown",
   "id": "ae723974",
   "metadata": {},
   "source": [
    "# NumPy Array Iterating"
   ]
  },
  {
   "cell_type": "code",
   "execution_count": 1,
   "id": "da760a7c",
   "metadata": {},
   "outputs": [
    {
     "name": "stdout",
     "output_type": "stream",
     "text": [
      "1\n",
      "2\n",
      "3\n",
      "4\n",
      "5\n",
      "6\n",
      "7\n",
      "8\n"
     ]
    }
   ],
   "source": [
    "#Nested for loop for 2-D array\n",
    "\n",
    "import numpy as np\n",
    "\n",
    "arr = np.array([\n",
    "    [1, 2, 3, 4],\n",
    "    [5, 6, 7, 8]\n",
    "])\n",
    "\n",
    "for row in arr:\n",
    "    for items in row:\n",
    "        print(items)"
   ]
  },
  {
   "cell_type": "code",
   "execution_count": 2,
   "id": "69d95efb",
   "metadata": {},
   "outputs": [
    {
     "name": "stdout",
     "output_type": "stream",
     "text": [
      "2\n",
      "5\n",
      "9\n",
      "7\n"
     ]
    }
   ],
   "source": [
    "#1-D Array\n",
    "\n",
    "arrOne = np.array([2, 5, 9, 7])\n",
    "\n",
    "for items in arrOne:\n",
    "    print(items)"
   ]
  },
  {
   "cell_type": "code",
   "execution_count": 3,
   "id": "31763c6b",
   "metadata": {},
   "outputs": [
    {
     "name": "stdout",
     "output_type": "stream",
     "text": [
      "5\n",
      "5\n",
      "6\n",
      "6\n",
      "7\n",
      "7\n",
      "4\n",
      "4\n",
      "1\n",
      "2\n",
      "2\n",
      "1\n",
      "3\n",
      "3\n",
      "0\n",
      "0\n"
     ]
    }
   ],
   "source": [
    "#3-D Array\n",
    "\n",
    "arrThree = np.array([\n",
    "    [\n",
    "        [5, 5, 6, 6],\n",
    "        [7, 7, 4, 4]\n",
    "    ],\n",
    "    [\n",
    "        [1, 2, 2, 1],\n",
    "        [3, 3, 0, 0]\n",
    "    ]\n",
    "])\n",
    "\n",
    "for row in arrThree:\n",
    "    for x in row:\n",
    "        for y in x:\n",
    "            print(y)"
   ]
  },
  {
   "cell_type": "markdown",
   "id": "d1f89ddf",
   "metadata": {},
   "source": [
    "# NumPy Array Slicing\n",
    "\n",
    "* [:end] : 0 to end\n",
    "* [start:end] : start to end\n",
    "* [start:] : start to last index\n",
    "* [::step] : start to end increment of step\n",
    "* [start:end:step]"
   ]
  },
  {
   "cell_type": "code",
   "execution_count": 9,
   "id": "ea3e3348",
   "metadata": {},
   "outputs": [
    {
     "name": "stdout",
     "output_type": "stream",
     "text": [
      "[ 1 12  2]\n"
     ]
    }
   ],
   "source": [
    "import numpy as my\n",
    "\n",
    "arr = my.array([1, 12, 2, 22, 3, 34, 5, 6, 7, 8, 9])\n",
    "\n",
    "sliced = arr[:3] #[:end] : 0 to end\n",
    "\n",
    "print(sliced)"
   ]
  },
  {
   "cell_type": "code",
   "execution_count": 10,
   "id": "37b6f008",
   "metadata": {},
   "outputs": [
    {
     "name": "stdout",
     "output_type": "stream",
     "text": [
      "[22  3 34  5]\n"
     ]
    }
   ],
   "source": [
    "sliced1 = arr[3:7] #[start:end] : start to end\n",
    "\n",
    "print(sliced1)"
   ]
  },
  {
   "cell_type": "code",
   "execution_count": 12,
   "id": "45ce4d77",
   "metadata": {},
   "outputs": [
    {
     "name": "stdout",
     "output_type": "stream",
     "text": [
      "[5 6 7 8 9]\n"
     ]
    }
   ],
   "source": [
    "sliced2 = arr[6:] #[start:] : start to last index\n",
    "\n",
    "print(sliced2)"
   ]
  },
  {
   "cell_type": "code",
   "execution_count": 13,
   "id": "adc1297e",
   "metadata": {},
   "outputs": [
    {
     "name": "stdout",
     "output_type": "stream",
     "text": [
      "[1 2 3 5 7 9]\n"
     ]
    }
   ],
   "source": [
    "sliced3 = arr[::2] #[::stop] : start to end increment of step\n",
    "\n",
    "print(sliced3)"
   ]
  },
  {
   "cell_type": "code",
   "execution_count": 14,
   "id": "2a0afe91",
   "metadata": {},
   "outputs": [
    {
     "name": "stdout",
     "output_type": "stream",
     "text": [
      "[12  3  6]\n"
     ]
    }
   ],
   "source": [
    "sliced4 = arr[1:8:3] #[start:end:step]\n",
    "\n",
    "print(sliced4)"
   ]
  },
  {
   "cell_type": "code",
   "execution_count": 15,
   "id": "c2795147",
   "metadata": {},
   "outputs": [
    {
     "name": "stdout",
     "output_type": "stream",
     "text": [
      "[12  2 22  3 34  5  6]\n"
     ]
    }
   ],
   "source": [
    "sliced5 = arr[1:8]\n",
    "\n",
    "print(sliced5)"
   ]
  },
  {
   "cell_type": "code",
   "execution_count": 24,
   "id": "f7bb1baa",
   "metadata": {},
   "outputs": [
    {
     "name": "stdout",
     "output_type": "stream",
     "text": [
      "[[5 4 3 2]\n",
      " [1 2 3 4]]\n",
      "\n",
      "\n",
      "[[4 3]\n",
      " [2 3]\n",
      " [8 9]]\n"
     ]
    }
   ],
   "source": [
    "# 2-D array slicing\n",
    "\n",
    "arrD = my.array([\n",
    "    [5, 4, 3, 2],\n",
    "    [1, 2, 3, 4],\n",
    "    [4, 8, 9, 2]\n",
    "])\n",
    "\n",
    "#Slicing row\n",
    "row = arrD[0:2]\n",
    "print(row)\n",
    "\n",
    "print(\"\\n\")\n",
    "\n",
    "#Slicing column\n",
    "col = arrD[:, 1:3]\n",
    "print(col)"
   ]
  },
  {
   "cell_type": "code",
   "execution_count": 25,
   "id": "08f17725",
   "metadata": {},
   "outputs": [
    {
     "name": "stdout",
     "output_type": "stream",
     "text": [
      "[[4 3]\n",
      " [2 3]]\n"
     ]
    }
   ],
   "source": [
    "#1st 2rows & col 2 & 3\n",
    "\n",
    "matrix = arrD[:2, 1:3]\n",
    "\n",
    "print(matrix)"
   ]
  },
  {
   "cell_type": "code",
   "execution_count": null,
   "id": "d0427854",
   "metadata": {},
   "outputs": [],
   "source": []
  }
 ],
 "metadata": {
  "kernelspec": {
   "display_name": "Python 3 (ipykernel)",
   "language": "python",
   "name": "python3"
  },
  "language_info": {
   "codemirror_mode": {
    "name": "ipython",
    "version": 3
   },
   "file_extension": ".py",
   "mimetype": "text/x-python",
   "name": "python",
   "nbconvert_exporter": "python",
   "pygments_lexer": "ipython3",
   "version": "3.11.5"
  }
 },
 "nbformat": 4,
 "nbformat_minor": 5
}
