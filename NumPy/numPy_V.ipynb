{
 "cells": [
  {
   "cell_type": "markdown",
   "id": "e09be8bd",
   "metadata": {},
   "source": [
    "# Descriptive Statistics\n",
    "* Mean\n",
    "* Median\n",
    "* Variance\n",
    "* Standard Deviation"
   ]
  },
  {
   "cell_type": "code",
   "execution_count": 2,
   "id": "58681fab",
   "metadata": {},
   "outputs": [],
   "source": [
    "import numpy as np\n",
    "\n",
    "data = np.arange(20, 35)\n",
    "\n",
    "mean = np.mean(data)\n",
    "median = np.median(data)\n",
    "variance = np.var(data)\n",
    "std_deviance = np.std(data)"
   ]
  },
  {
   "cell_type": "code",
   "execution_count": 3,
   "id": "46356d0b",
   "metadata": {},
   "outputs": [
    {
     "name": "stdout",
     "output_type": "stream",
     "text": [
      "27.0\n",
      "27.0\n",
      "18.666666666666668\n",
      "4.320493798938574\n"
     ]
    }
   ],
   "source": [
    "print(mean)\n",
    "print(median)\n",
    "print(variance)\n",
    "print(std_deviance)"
   ]
  },
  {
   "cell_type": "markdown",
   "id": "d2d02a8a",
   "metadata": {},
   "source": [
    "# Handling Missing Values"
   ]
  },
  {
   "cell_type": "code",
   "execution_count": 4,
   "id": "d264f3b4",
   "metadata": {},
   "outputs": [
    {
     "data": {
      "text/plain": [
       "2"
      ]
     },
     "execution_count": 4,
     "metadata": {},
     "output_type": "execute_result"
    }
   ],
   "source": [
    "# checking for NAN values\n",
    "\n",
    "arr = np.array([1, 2, np.nan, 4, 5, np.nan])\n",
    "\n",
    "nan_checker = np.sum(np.isnan(arr))\n",
    "\n",
    "nan_checker"
   ]
  },
  {
   "cell_type": "code",
   "execution_count": 5,
   "id": "bbc93b80",
   "metadata": {},
   "outputs": [
    {
     "data": {
      "text/plain": [
       "array([1., 2., 4., 5.])"
      ]
     },
     "execution_count": 5,
     "metadata": {},
     "output_type": "execute_result"
    }
   ],
   "source": [
    "# Removing NAN values\n",
    "\n",
    "cleaner = arr[~np.isnan(arr)]\n",
    "\n",
    "cleaner"
   ]
  },
  {
   "cell_type": "code",
   "execution_count": 6,
   "id": "9604872e",
   "metadata": {},
   "outputs": [
    {
     "data": {
      "text/plain": [
       "array([1., 2., 3., 4., 5., 3.])"
      ]
     },
     "execution_count": 6,
     "metadata": {},
     "output_type": "execute_result"
    }
   ],
   "source": [
    "mean = np.nanmean(arr)\n",
    "\n",
    "data_filled = np.where(np.isnan(arr), mean, arr)\n",
    "\n",
    "data_filled"
   ]
  },
  {
   "cell_type": "markdown",
   "id": "bbbb13b9",
   "metadata": {},
   "source": [
    "# Array of Zeroes"
   ]
  },
  {
   "cell_type": "code",
   "execution_count": 8,
   "id": "25d26b22",
   "metadata": {},
   "outputs": [],
   "source": [
    "mini = np.zeros(5)"
   ]
  },
  {
   "cell_type": "code",
   "execution_count": 9,
   "id": "8c77f05c",
   "metadata": {},
   "outputs": [
    {
     "data": {
      "text/plain": [
       "array([0., 0., 0., 0., 0.])"
      ]
     },
     "execution_count": 9,
     "metadata": {},
     "output_type": "execute_result"
    }
   ],
   "source": [
    "mini"
   ]
  },
  {
   "cell_type": "code",
   "execution_count": 10,
   "id": "e741ad54",
   "metadata": {},
   "outputs": [
    {
     "data": {
      "text/plain": [
       "array([1., 1.])"
      ]
     },
     "execution_count": 10,
     "metadata": {},
     "output_type": "execute_result"
    }
   ],
   "source": [
    "small = np.ones(2)\n",
    "small"
   ]
  }
 ],
 "metadata": {
  "kernelspec": {
   "display_name": "Python 3 (ipykernel)",
   "language": "python",
   "name": "python3"
  },
  "language_info": {
   "codemirror_mode": {
    "name": "ipython",
    "version": 3
   },
   "file_extension": ".py",
   "mimetype": "text/x-python",
   "name": "python",
   "nbconvert_exporter": "python",
   "pygments_lexer": "ipython3",
   "version": "3.11.5"
  }
 },
 "nbformat": 4,
 "nbformat_minor": 5
}
