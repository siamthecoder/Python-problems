{
 "cells": [
  {
   "cell_type": "markdown",
   "id": "6fc8930e",
   "metadata": {},
   "source": [
    "# Import NumPy"
   ]
  },
  {
   "cell_type": "code",
   "execution_count": 1,
   "id": "d4b23b28",
   "metadata": {},
   "outputs": [
    {
     "name": "stdout",
     "output_type": "stream",
     "text": [
      "[1 2 3 4 5]\n"
     ]
    }
   ],
   "source": [
    "import numpy as np\n",
    "\n",
    "#Accessing numpy library using np\n",
    "arr = np.array([1, 2, 3, 4, 5])\n",
    "\n",
    "print(arr)"
   ]
  },
  {
   "cell_type": "markdown",
   "id": "ad6fb333",
   "metadata": {},
   "source": [
    "# Checking NumPy version"
   ]
  },
  {
   "cell_type": "code",
   "execution_count": 2,
   "id": "7c1924d2",
   "metadata": {},
   "outputs": [
    {
     "name": "stdout",
     "output_type": "stream",
     "text": [
      "1.24.3\n"
     ]
    }
   ],
   "source": [
    "print(np.__version__)"
   ]
  },
  {
   "cell_type": "markdown",
   "id": "677ae5a8",
   "metadata": {},
   "source": [
    "# Numpy Creating Arrays"
   ]
  },
  {
   "cell_type": "code",
   "execution_count": 3,
   "id": "34c470e7",
   "metadata": {},
   "outputs": [
    {
     "name": "stdout",
     "output_type": "stream",
     "text": [
      "[ 4  8 16 32 64]\n",
      "<class 'numpy.ndarray'>\n"
     ]
    }
   ],
   "source": [
    "arr = np.array([4, 8, 16, 32, 64])\n",
    "\n",
    "print(arr)\n",
    "print(type(arr))"
   ]
  },
  {
   "cell_type": "markdown",
   "id": "c037d8be",
   "metadata": {},
   "source": [
    "# Dimension in Arrays"
   ]
  },
  {
   "cell_type": "code",
   "execution_count": 4,
   "id": "8c7a9450",
   "metadata": {},
   "outputs": [
    {
     "name": "stdout",
     "output_type": "stream",
     "text": [
      "5\n",
      "0\n"
     ]
    }
   ],
   "source": [
    "#0-D array\n",
    "\n",
    "arr = np.array(5)\n",
    "\n",
    "print(arr)\n",
    "print(arr.ndim)"
   ]
  },
  {
   "cell_type": "code",
   "execution_count": 5,
   "id": "f8e6e9e6",
   "metadata": {},
   "outputs": [
    {
     "name": "stdout",
     "output_type": "stream",
     "text": [
      "[1 0 1 0]\n",
      "1\n"
     ]
    }
   ],
   "source": [
    "#1-D array\n",
    "\n",
    "arr1 = np.array([1, 0, 1, 0])\n",
    "\n",
    "print(arr1)\n",
    "print(arr1.ndim)"
   ]
  },
  {
   "cell_type": "code",
   "execution_count": 6,
   "id": "b46b3e94",
   "metadata": {},
   "outputs": [
    {
     "name": "stdout",
     "output_type": "stream",
     "text": [
      "[[1 2 3]\n",
      " [4 5 6]]\n",
      "2\n"
     ]
    }
   ],
   "source": [
    "#2-D array\n",
    "\n",
    "arr2 = np.array([\n",
    "    [1, 2, 3],\n",
    "    [4, 5, 6]\n",
    "])\n",
    "\n",
    "print(arr2)\n",
    "print(arr2.ndim)"
   ]
  },
  {
   "cell_type": "code",
   "execution_count": 8,
   "id": "4bbee3c4",
   "metadata": {},
   "outputs": [
    {
     "name": "stdout",
     "output_type": "stream",
     "text": [
      "[[[5 8 6]\n",
      "  [7 2 4]]\n",
      "\n",
      " [[4 2 9]\n",
      "  [3 3 2]]]\n",
      "3\n"
     ]
    }
   ],
   "source": [
    "#3-D array\n",
    "\n",
    "arr3 = np.array([\n",
    "    [\n",
    "        [5, 8, 6],\n",
    "        [7, 2, 4]\n",
    "    ],\n",
    "    [\n",
    "        [4, 2, 9],\n",
    "        [3, 3, 2]\n",
    "    ]\n",
    "])\n",
    "\n",
    "print(arr3)\n",
    "print(arr3.ndim)"
   ]
  },
  {
   "cell_type": "code",
   "execution_count": 11,
   "id": "ae63f663",
   "metadata": {},
   "outputs": [
    {
     "name": "stdout",
     "output_type": "stream",
     "text": [
      "<class 'numpy.ndarray'>\n",
      "<class 'numpy.ndarray'>\n",
      "<class 'numpy.ndarray'>\n",
      "<class 'numpy.ndarray'>\n"
     ]
    }
   ],
   "source": [
    "print(type(arr))\n",
    "print(type(arr1))\n",
    "print(type(arr2))\n",
    "print(type(arr3))"
   ]
  },
  {
   "cell_type": "markdown",
   "id": "d813f6ab",
   "metadata": {},
   "source": [
    "# NumPy Array Shape"
   ]
  },
  {
   "cell_type": "code",
   "execution_count": 12,
   "id": "8f77a85e",
   "metadata": {},
   "outputs": [
    {
     "name": "stdout",
     "output_type": "stream",
     "text": [
      "()\n",
      "(4,)\n",
      "(2, 3)\n",
      "(2, 2, 3)\n"
     ]
    }
   ],
   "source": [
    "print(arr.shape)\n",
    "print(arr1.shape)\n",
    "print(arr2.shape)\n",
    "print(arr3.shape)"
   ]
  },
  {
   "cell_type": "markdown",
   "id": "ca2b56cb",
   "metadata": {},
   "source": [
    "# NumPy Array Reshaping"
   ]
  },
  {
   "cell_type": "code",
   "execution_count": 13,
   "id": "3041b5cd",
   "metadata": {},
   "outputs": [
    {
     "name": "stdout",
     "output_type": "stream",
     "text": [
      "[[1 2 3]\n",
      " [4 5 6]]\n"
     ]
    }
   ],
   "source": [
    "import numpy as np\n",
    "\n",
    "arr = np.array([1, 2, 3, 4, 5, 6])\n",
    "\n",
    "#Re-shaping array into 2-D array\n",
    "\n",
    "re_shaped_arr = arr.reshape(2, 3)\n",
    "\n",
    "print(re_shaped_arr)"
   ]
  },
  {
   "cell_type": "markdown",
   "id": "8fac2453",
   "metadata": {},
   "source": [
    "# NumPy Array Indexing"
   ]
  },
  {
   "cell_type": "code",
   "execution_count": 15,
   "id": "ffd118f4",
   "metadata": {},
   "outputs": [
    {
     "name": "stdout",
     "output_type": "stream",
     "text": [
      "4\n",
      "13\n"
     ]
    }
   ],
   "source": [
    "arr = np.array([4, 5, 7, 9])\n",
    "\n",
    "print(arr[0])\n",
    "print(arr[0]+arr[3])"
   ]
  },
  {
   "cell_type": "code",
   "execution_count": 16,
   "id": "4b236700",
   "metadata": {},
   "outputs": [
    {
     "name": "stdout",
     "output_type": "stream",
     "text": [
      "3\n"
     ]
    }
   ],
   "source": [
    "#Access 2-D Array\n",
    "\n",
    "arr2 = np.array([\n",
    "    [1, 2, 3, 4],\n",
    "    [5, 6, 7, 8]\n",
    "])\n",
    "\n",
    "print(arr2[0, 2])"
   ]
  },
  {
   "cell_type": "code",
   "execution_count": 17,
   "id": "a5960d99",
   "metadata": {},
   "outputs": [
    {
     "name": "stdout",
     "output_type": "stream",
     "text": [
      "3\n",
      "7\n"
     ]
    }
   ],
   "source": [
    "#Access 3-D Array\n",
    "\n",
    "arr3 = np.array([\n",
    "    [\n",
    "        [1, 2, 3],\n",
    "        [4, 5, 6]\n",
    "    ],\n",
    "    [\n",
    "        [7, 8, 9],\n",
    "        [10, 11, 11]\n",
    "    ]\n",
    "])\n",
    "\n",
    "print(arr3[0, 0, 2])\n",
    "print(arr3[1, 0, 0])"
   ]
  },
  {
   "cell_type": "code",
   "execution_count": 18,
   "id": "b8279621",
   "metadata": {},
   "outputs": [
    {
     "name": "stdout",
     "output_type": "stream",
     "text": [
      "7\n",
      "12\n"
     ]
    }
   ],
   "source": [
    "#Negative indexing\n",
    "\n",
    "ar = np.array([\n",
    "    [5, 6, 7, 10],\n",
    "    [4, 9, 8, 12]\n",
    "])\n",
    "\n",
    "print(ar[0, -2])\n",
    "print(ar[1, -1])"
   ]
  },
  {
   "cell_type": "code",
   "execution_count": null,
   "id": "64e8b1b5",
   "metadata": {},
   "outputs": [],
   "source": []
  }
 ],
 "metadata": {
  "kernelspec": {
   "display_name": "Python 3 (ipykernel)",
   "language": "python",
   "name": "python3"
  },
  "language_info": {
   "codemirror_mode": {
    "name": "ipython",
    "version": 3
   },
   "file_extension": ".py",
   "mimetype": "text/x-python",
   "name": "python",
   "nbconvert_exporter": "python",
   "pygments_lexer": "ipython3",
   "version": "3.11.5"
  }
 },
 "nbformat": 4,
 "nbformat_minor": 5
}
