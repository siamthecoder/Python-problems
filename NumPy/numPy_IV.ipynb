{
 "cells": [
  {
   "cell_type": "markdown",
   "id": "a2437518",
   "metadata": {},
   "source": [
    "# Splitting NumPy Arrays"
   ]
  },
  {
   "cell_type": "code",
   "execution_count": 4,
   "id": "e3abc5d1",
   "metadata": {},
   "outputs": [
    {
     "data": {
      "text/plain": [
       "array([ 1,  2,  3,  4,  5,  6,  7,  8,  9, 10, 11, 12, 13, 14, 15, 16, 17,\n",
       "       18, 19, 20, 21, 22, 23, 24, 25])"
      ]
     },
     "execution_count": 4,
     "metadata": {},
     "output_type": "execute_result"
    }
   ],
   "source": [
    "#Creating dtata using arrange\n",
    "\n",
    "import numpy as np\n",
    "\n",
    "arr = np.arange(1,26)\n",
    "\n",
    "arr"
   ]
  },
  {
   "cell_type": "code",
   "execution_count": 5,
   "id": "a8add1ba",
   "metadata": {},
   "outputs": [],
   "source": [
    "split_arr = np.split(arr, 5)"
   ]
  },
  {
   "cell_type": "code",
   "execution_count": 6,
   "id": "6283c8f8",
   "metadata": {},
   "outputs": [
    {
     "name": "stdout",
     "output_type": "stream",
     "text": [
      "[array([1, 2, 3, 4, 5]), array([ 6,  7,  8,  9, 10]), array([11, 12, 13, 14, 15]), array([16, 17, 18, 19, 20]), array([21, 22, 23, 24, 25])]\n"
     ]
    }
   ],
   "source": [
    "print(split_arr)"
   ]
  },
  {
   "cell_type": "code",
   "execution_count": 9,
   "id": "31368395",
   "metadata": {},
   "outputs": [],
   "source": [
    "#Unequla Splitting\n",
    "\n",
    "unequal_split_arr = np.array_split(arr, 2)"
   ]
  },
  {
   "cell_type": "code",
   "execution_count": 10,
   "id": "9c34a192",
   "metadata": {},
   "outputs": [
    {
     "data": {
      "text/plain": [
       "[array([ 1,  2,  3,  4,  5,  6,  7,  8,  9, 10, 11, 12, 13]),\n",
       " array([14, 15, 16, 17, 18, 19, 20, 21, 22, 23, 24, 25])]"
      ]
     },
     "execution_count": 10,
     "metadata": {},
     "output_type": "execute_result"
    }
   ],
   "source": [
    "unequal_split_arr"
   ]
  },
  {
   "cell_type": "markdown",
   "id": "65322457",
   "metadata": {},
   "source": [
    "# NumPy searching Arrays"
   ]
  },
  {
   "cell_type": "code",
   "execution_count": 13,
   "id": "870a216b",
   "metadata": {},
   "outputs": [
    {
     "name": "stdout",
     "output_type": "stream",
     "text": [
      "[58 59 60 61 62 63 64 65 66 67 68 69 70 71]\n"
     ]
    },
    {
     "data": {
      "text/plain": [
       "(array([ 8,  9, 10, 11, 12, 13], dtype=int64),)"
      ]
     },
     "execution_count": 13,
     "metadata": {},
     "output_type": "execute_result"
    }
   ],
   "source": [
    "my_array = np.arange(58, 72)\n",
    "\n",
    "index = np.where(my_array > 65)\n",
    "print(my_array)\n",
    "index"
   ]
  },
  {
   "cell_type": "code",
   "execution_count": 15,
   "id": "6bb99b5e",
   "metadata": {},
   "outputs": [
    {
     "data": {
      "text/plain": [
       "(array([0, 1, 2, 6], dtype=int64),)"
      ]
     },
     "execution_count": 15,
     "metadata": {},
     "output_type": "execute_result"
    }
   ],
   "source": [
    "his_array = np.array([75, 84, 21, 20, 1, 0, 99])\n",
    "\n",
    "checker = np.where(his_array > 20)\n",
    "\n",
    "checker"
   ]
  },
  {
   "cell_type": "markdown",
   "id": "2f0caae1",
   "metadata": {},
   "source": [
    "# Array masking"
   ]
  },
  {
   "cell_type": "code",
   "execution_count": 17,
   "id": "571f51a9",
   "metadata": {},
   "outputs": [
    {
     "data": {
      "text/plain": [
       "array([72, 62, 75])"
      ]
     },
     "execution_count": 17,
     "metadata": {},
     "output_type": "execute_result"
    }
   ],
   "source": [
    "arrr = np.array([72, 62, 14, 75])\n",
    "\n",
    "mask = arrr>14\n",
    "\n",
    "filtered_value = arrr[mask]\n",
    "\n",
    "filtered_value"
   ]
  },
  {
   "cell_type": "markdown",
   "id": "91ab7625",
   "metadata": {},
   "source": [
    "# Array Sorting"
   ]
  },
  {
   "cell_type": "code",
   "execution_count": 18,
   "id": "9b0ce6c5",
   "metadata": {},
   "outputs": [
    {
     "data": {
      "text/plain": [
       "array([ 9, 32, 54, 75, 85])"
      ]
     },
     "execution_count": 18,
     "metadata": {},
     "output_type": "execute_result"
    }
   ],
   "source": [
    "unsorted_arr = np.array([54, 32, 75, 85, 9])\n",
    "\n",
    "sorted_arr = np.sort(unsorted_arr)\n",
    "\n",
    "sorted_arr"
   ]
  },
  {
   "cell_type": "code",
   "execution_count": 19,
   "id": "169050e9",
   "metadata": {},
   "outputs": [
    {
     "data": {
      "text/plain": [
       "array([89, 88, 87, 86, 85, 84, 83, 82, 81, 80, 79, 78, 77, 76, 75])"
      ]
     },
     "execution_count": 19,
     "metadata": {},
     "output_type": "execute_result"
    }
   ],
   "source": [
    "ulta_arr = np.arange(75, 90)\n",
    "\n",
    "ulta_sort = np.sort(ulta_arr)[::-1]\n",
    "\n",
    "ulta_sort"
   ]
  },
  {
   "cell_type": "code",
   "execution_count": 20,
   "id": "4253148d",
   "metadata": {},
   "outputs": [
    {
     "data": {
      "text/plain": [
       "array([[ 1, 45, 65, 78],\n",
       "       [ 3, 22, 64, 88]])"
      ]
     },
     "execution_count": 20,
     "metadata": {},
     "output_type": "execute_result"
    }
   ],
   "source": [
    "# axis-1 (Sorting along rows)\n",
    "\n",
    "arr1 = np.array([\n",
    "    [45, 65, 78, 1],\n",
    "    [88, 22, 64, 3]\n",
    "])\n",
    "\n",
    "my_sort = np.sort(arr1, axis = 1)\n",
    "\n",
    "my_sort"
   ]
  },
  {
   "cell_type": "code",
   "execution_count": 21,
   "id": "591e2d7e",
   "metadata": {},
   "outputs": [
    {
     "data": {
      "text/plain": [
       "array([[45, 22, 64,  1],\n",
       "       [88, 65, 78,  3]])"
      ]
     },
     "execution_count": 21,
     "metadata": {},
     "output_type": "execute_result"
    }
   ],
   "source": [
    "# axis-0 (Sorting along cols)\n",
    "\n",
    "arr2 = np.array([\n",
    "    [45, 65, 78, 1],\n",
    "    [88, 22, 64, 3]\n",
    "])\n",
    "\n",
    "my_new_sort = np.sort(arr2, axis = 0)\n",
    "\n",
    "my_new_sort"
   ]
  },
  {
   "cell_type": "markdown",
   "id": "c1013e54",
   "metadata": {},
   "source": [
    "# MAT125 operations"
   ]
  },
  {
   "cell_type": "code",
   "execution_count": 22,
   "id": "58c6f487",
   "metadata": {},
   "outputs": [
    {
     "data": {
      "text/plain": [
       "array([80, 56, 38, 12])"
      ]
     },
     "execution_count": 22,
     "metadata": {},
     "output_type": "execute_result"
    }
   ],
   "source": [
    "arrOne = np.array([78, 55, 36, 11])\n",
    "arrTwo = np.array([2, 1, 2, 1])\n",
    "\n",
    "adder = arrOne + arrTwo\n",
    "\n",
    "adder"
   ]
  },
  {
   "cell_type": "code",
   "execution_count": 23,
   "id": "40820bc2",
   "metadata": {},
   "outputs": [
    {
     "data": {
      "text/plain": [
       "array([156,  55,  72,  11])"
      ]
     },
     "execution_count": 23,
     "metadata": {},
     "output_type": "execute_result"
    }
   ],
   "source": [
    "arrOne = np.array([78, 55, 36, 11])\n",
    "arrTwo = np.array([2, 1, 2, 1])\n",
    "\n",
    "multiply = arrOne * arrTwo\n",
    "\n",
    "multiply"
   ]
  },
  {
   "cell_type": "code",
   "execution_count": 24,
   "id": "375b1c7b",
   "metadata": {},
   "outputs": [
    {
     "data": {
      "text/plain": [
       "array([39., 55., 18., 11.])"
      ]
     },
     "execution_count": 24,
     "metadata": {},
     "output_type": "execute_result"
    }
   ],
   "source": [
    "arrOne = np.array([78, 55, 36, 11])\n",
    "arrTwo = np.array([2, 1, 2, 1])\n",
    "\n",
    "division = arrOne / arrTwo\n",
    "\n",
    "division"
   ]
  },
  {
   "cell_type": "code",
   "execution_count": 25,
   "id": "27b1ef00",
   "metadata": {},
   "outputs": [
    {
     "data": {
      "text/plain": [
       "array([80, 56, 38, 12])"
      ]
     },
     "execution_count": 25,
     "metadata": {},
     "output_type": "execute_result"
    }
   ],
   "source": [
    "arrOne = np.array([78, 55, 36, 11])\n",
    "arrTwo = np.array([2, 1, 2, 1])\n",
    "\n",
    "result = arrOne - arrTwo\n",
    "\n",
    "adder"
   ]
  },
  {
   "cell_type": "code",
   "execution_count": 26,
   "id": "2bb498bc",
   "metadata": {},
   "outputs": [
    {
     "data": {
      "text/plain": [
       "array([1.41421356, 1.        , 1.41421356, 1.        ])"
      ]
     },
     "execution_count": 26,
     "metadata": {},
     "output_type": "execute_result"
    }
   ],
   "source": [
    "arrOne = np.array([78, 55, 36, 11])\n",
    "arrTwo = np.array([2, 1, 2, 1])\n",
    "\n",
    "sqrt = np.sqrt(arrTwo)\n",
    "\n",
    "sqrt"
   ]
  },
  {
   "cell_type": "code",
   "execution_count": 28,
   "id": "19e2b17f",
   "metadata": {},
   "outputs": [
    {
     "data": {
      "text/plain": [
       "array([[15, 14, 13, 12],\n",
       "       [11, 12, 13, 14]])"
      ]
     },
     "execution_count": 28,
     "metadata": {},
     "output_type": "execute_result"
    }
   ],
   "source": [
    "arrRandom = np.array([\n",
    "    [5, 4, 3, 2],\n",
    "    [1, 2, 3, 4]\n",
    "])\n",
    "\n",
    "scaler = arrRandom + 10\n",
    "\n",
    "scaler"
   ]
  },
  {
   "cell_type": "code",
   "execution_count": 29,
   "id": "d1667290",
   "metadata": {},
   "outputs": [
    {
     "data": {
      "text/plain": [
       "array([[10,  9,  4,  3],\n",
       "       [ 6,  7,  4,  5]])"
      ]
     },
     "execution_count": 29,
     "metadata": {},
     "output_type": "execute_result"
    }
   ],
   "source": [
    "rowToAdd = arrRandom + np.array([5, 5, 1, 1])\n",
    "\n",
    "rowToAdd"
   ]
  }
 ],
 "metadata": {
  "kernelspec": {
   "display_name": "Python 3 (ipykernel)",
   "language": "python",
   "name": "python3"
  },
  "language_info": {
   "codemirror_mode": {
    "name": "ipython",
    "version": 3
   },
   "file_extension": ".py",
   "mimetype": "text/x-python",
   "name": "python",
   "nbconvert_exporter": "python",
   "pygments_lexer": "ipython3",
   "version": "3.11.5"
  }
 },
 "nbformat": 4,
 "nbformat_minor": 5
}
