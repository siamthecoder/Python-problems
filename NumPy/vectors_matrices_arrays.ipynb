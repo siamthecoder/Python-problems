{
 "cells": [
  {
   "cell_type": "markdown",
   "id": "58f396b5",
   "metadata": {},
   "source": [
    "# Creating a Vector"
   ]
  },
  {
   "cell_type": "code",
   "execution_count": 1,
   "id": "cfd374d2",
   "metadata": {},
   "outputs": [],
   "source": [
    "# Need to reate a vector\n",
    "# Load the library\n",
    "import numpy as np\n",
    "\n",
    "#Creating a vector as a row\n",
    "vector_row = np.array([1,2,3])\n",
    "\n",
    "#Creating a vector as a column\n",
    "vector_column = np.array([[1],\n",
    "                          [2],\n",
    "                          [3]])"
   ]
  },
  {
   "cell_type": "code",
   "execution_count": 2,
   "id": "de656060",
   "metadata": {},
   "outputs": [
    {
     "data": {
      "text/plain": [
       "array([1, 2, 3])"
      ]
     },
     "execution_count": 2,
     "metadata": {},
     "output_type": "execute_result"
    }
   ],
   "source": [
    "vector_row"
   ]
  },
  {
   "cell_type": "code",
   "execution_count": 3,
   "id": "eeee8287",
   "metadata": {},
   "outputs": [
    {
     "data": {
      "text/plain": [
       "array([[1],\n",
       "       [2],\n",
       "       [3]])"
      ]
     },
     "execution_count": 3,
     "metadata": {},
     "output_type": "execute_result"
    }
   ],
   "source": [
    "vector_column"
   ]
  },
  {
   "cell_type": "markdown",
   "id": "3637f899",
   "metadata": {},
   "source": [
    "# Creating a Matrix"
   ]
  },
  {
   "cell_type": "code",
   "execution_count": 4,
   "id": "39223620",
   "metadata": {},
   "outputs": [],
   "source": [
    "# Load the library\n",
    "import numpy as np\n",
    "\n",
    "# Create matrix\n",
    "matrix = np.array([[1, 2],\n",
    "                   [1, 2],\n",
    "                   [1, 2]])"
   ]
  },
  {
   "cell_type": "code",
   "execution_count": 5,
   "id": "e853cbd0",
   "metadata": {},
   "outputs": [
    {
     "data": {
      "text/plain": [
       "array([[1, 2],\n",
       "       [1, 2],\n",
       "       [1, 2]])"
      ]
     },
     "execution_count": 5,
     "metadata": {},
     "output_type": "execute_result"
    }
   ],
   "source": [
    "matrix"
   ]
  },
  {
   "cell_type": "markdown",
   "id": "6af75628",
   "metadata": {},
   "source": [
    "# Creating a Sparse Matrix"
   ]
  },
  {
   "cell_type": "code",
   "execution_count": 6,
   "id": "105e9c8e",
   "metadata": {},
   "outputs": [],
   "source": [
    "# Load library\n",
    "import numpy as np\n",
    "from scipy import sparse\n",
    "\n",
    "# Create Matrix\n",
    "matrix = np.array([[0, 0],\n",
    "                   [0, 1],\n",
    "                   [3, 0]])\n",
    "# Create compressed sparse row (CSR) matrix\n",
    "matrix_sparse = sparse.csr_matrix(matrix)"
   ]
  },
  {
   "cell_type": "code",
   "execution_count": 7,
   "id": "626cbe7d",
   "metadata": {},
   "outputs": [
    {
     "data": {
      "text/plain": [
       "array([[0, 0],\n",
       "       [0, 1],\n",
       "       [3, 0]])"
      ]
     },
     "execution_count": 7,
     "metadata": {},
     "output_type": "execute_result"
    }
   ],
   "source": [
    "matrix"
   ]
  },
  {
   "cell_type": "code",
   "execution_count": 9,
   "id": "72033cba",
   "metadata": {},
   "outputs": [
    {
     "name": "stdout",
     "output_type": "stream",
     "text": [
      "  (1, 1)\t1\n",
      "  (2, 0)\t3\n"
     ]
    }
   ],
   "source": [
    "print(matrix_sparse)"
   ]
  },
  {
   "cell_type": "code",
   "execution_count": 12,
   "id": "30584b74",
   "metadata": {},
   "outputs": [
    {
     "name": "stdout",
     "output_type": "stream",
     "text": [
      "  (1, 1)\t1\n",
      "  (2, 8)\t3\n"
     ]
    }
   ],
   "source": [
    "# Creating larger matrix\n",
    "matrix_large = np.array([[0, 0, 0, 0, 0, 0, 0, 0, 0, 0, 0],\n",
    "                         [0, 1, 0, 0, 0, 0, 0, 0, 0, 0, 0],\n",
    "                         [0, 0, 0, 0, 0, 0, 0, 0, 3, 0, 0]])\n",
    "\n",
    "from scipy import sparse\n",
    "# Compressed Sparse Row (CSR) matrix\n",
    "matrix_large_sparse = sparse.csr_matrix(matrix_large)\n",
    "\n",
    "print(matrix_large_sparse)"
   ]
  },
  {
   "cell_type": "markdown",
   "id": "c76dd53b",
   "metadata": {},
   "source": [
    "# Selecting Elements"
   ]
  },
  {
   "cell_type": "code",
   "execution_count": 13,
   "id": "5d459020",
   "metadata": {},
   "outputs": [
    {
     "data": {
      "text/plain": [
       "4"
      ]
     },
     "execution_count": 13,
     "metadata": {},
     "output_type": "execute_result"
    }
   ],
   "source": [
    "# Load library\n",
    "import numpy as np\n",
    "\n",
    "# Create row vector\n",
    "vector = np.array([1, 2, 3, 4, 5])\n",
    "\n",
    "# Create matrix\n",
    "matrix = np.array([[1, 2, 3],\n",
    "                   [4, 5, 6],\n",
    "                   [7, 8, 9]])\n",
    "\n",
    "vector[3]"
   ]
  },
  {
   "cell_type": "code",
   "execution_count": 14,
   "id": "43b666e1",
   "metadata": {},
   "outputs": [
    {
     "data": {
      "text/plain": [
       "5"
      ]
     },
     "execution_count": 14,
     "metadata": {},
     "output_type": "execute_result"
    }
   ],
   "source": [
    "matrix[1, 1]"
   ]
  },
  {
   "cell_type": "code",
   "execution_count": 15,
   "id": "1d01d6dd",
   "metadata": {},
   "outputs": [
    {
     "data": {
      "text/plain": [
       "array([1, 2, 3, 4, 5])"
      ]
     },
     "execution_count": 15,
     "metadata": {},
     "output_type": "execute_result"
    }
   ],
   "source": [
    "## Select all elements of vector\n",
    "vector[:]"
   ]
  },
  {
   "cell_type": "code",
   "execution_count": 16,
   "id": "df522285",
   "metadata": {},
   "outputs": [
    {
     "data": {
      "text/plain": [
       "array([1, 2, 3])"
      ]
     },
     "execution_count": 16,
     "metadata": {},
     "output_type": "execute_result"
    }
   ],
   "source": [
    "## Select up to x elements of vector\n",
    "vector[:3]"
   ]
  },
  {
   "cell_type": "code",
   "execution_count": 17,
   "id": "8c7ae09a",
   "metadata": {},
   "outputs": [
    {
     "data": {
      "text/plain": [
       "array([4, 5])"
      ]
     },
     "execution_count": 17,
     "metadata": {},
     "output_type": "execute_result"
    }
   ],
   "source": [
    "## Select after the x elements of vector\n",
    "vector[3:]"
   ]
  },
  {
   "cell_type": "code",
   "execution_count": 18,
   "id": "3d5fce72",
   "metadata": {},
   "outputs": [
    {
     "data": {
      "text/plain": [
       "5"
      ]
     },
     "execution_count": 18,
     "metadata": {},
     "output_type": "execute_result"
    }
   ],
   "source": [
    "## Select the last element\n",
    "vector[-1]"
   ]
  },
  {
   "cell_type": "code",
   "execution_count": 19,
   "id": "a6c71107",
   "metadata": {},
   "outputs": [
    {
     "data": {
      "text/plain": [
       "array([[1, 2, 3],\n",
       "       [4, 5, 6]])"
      ]
     },
     "execution_count": 19,
     "metadata": {},
     "output_type": "execute_result"
    }
   ],
   "source": [
    "# Select the forst two rows & all columns of a matrix\n",
    "matrix[:2, :]"
   ]
  },
  {
   "cell_type": "code",
   "execution_count": 20,
   "id": "d123d5a0",
   "metadata": {},
   "outputs": [
    {
     "data": {
      "text/plain": [
       "array([[2],\n",
       "       [5],\n",
       "       [8]])"
      ]
     },
     "execution_count": 20,
     "metadata": {},
     "output_type": "execute_result"
    }
   ],
   "source": [
    "# Select all rows & the second column\n",
    "matrix[:, 1:2]"
   ]
  },
  {
   "cell_type": "markdown",
   "id": "b8aa6920",
   "metadata": {},
   "source": [
    "# Describing a Matrix"
   ]
  },
  {
   "cell_type": "code",
   "execution_count": 22,
   "id": "6e8db95e",
   "metadata": {},
   "outputs": [
    {
     "data": {
      "text/plain": [
       "(3, 4)"
      ]
     },
     "execution_count": 22,
     "metadata": {},
     "output_type": "execute_result"
    }
   ],
   "source": [
    "# Shape\n",
    "import numpy as np\n",
    "\n",
    "my_matrix = np.array([[1, 3, 7, 9],\n",
    "                     [11, 13, 15, 19],\n",
    "                     [2, 4, 5, 6]])\n",
    "\n",
    "# View number of rows & column\n",
    "my_matrix.shape"
   ]
  },
  {
   "cell_type": "code",
   "execution_count": 23,
   "id": "790019b2",
   "metadata": {},
   "outputs": [
    {
     "data": {
      "text/plain": [
       "12"
      ]
     },
     "execution_count": 23,
     "metadata": {},
     "output_type": "execute_result"
    }
   ],
   "source": [
    "# View number of elements (rows * columns)\n",
    "my_matrix.size"
   ]
  },
  {
   "cell_type": "code",
   "execution_count": 24,
   "id": "15f0a36b",
   "metadata": {},
   "outputs": [
    {
     "data": {
      "text/plain": [
       "2"
      ]
     },
     "execution_count": 24,
     "metadata": {},
     "output_type": "execute_result"
    }
   ],
   "source": [
    "# View the dimension\n",
    "my_matrix.ndim"
   ]
  },
  {
   "cell_type": "markdown",
   "id": "3575c95a",
   "metadata": {},
   "source": [
    "# Broadcasting operation"
   ]
  },
  {
   "cell_type": "code",
   "execution_count": 25,
   "id": "d68922e7",
   "metadata": {},
   "outputs": [
    {
     "data": {
      "text/plain": [
       "array([[101, 103, 107, 109],\n",
       "       [111, 113, 115, 119],\n",
       "       [102, 104, 105, 106]])"
      ]
     },
     "execution_count": 25,
     "metadata": {},
     "output_type": "execute_result"
    }
   ],
   "source": [
    "my_matrix + 100"
   ]
  },
  {
   "cell_type": "markdown",
   "id": "2d1dffce",
   "metadata": {},
   "source": [
    "# Max, Min, Avg, Variance, Std"
   ]
  },
  {
   "cell_type": "code",
   "execution_count": 26,
   "id": "e4ffb98e",
   "metadata": {},
   "outputs": [
    {
     "data": {
      "text/plain": [
       "19"
      ]
     },
     "execution_count": 26,
     "metadata": {},
     "output_type": "execute_result"
    }
   ],
   "source": [
    "# Return maximum element\n",
    "np.max(my_matrix)"
   ]
  },
  {
   "cell_type": "code",
   "execution_count": 27,
   "id": "65b39484",
   "metadata": {},
   "outputs": [
    {
     "data": {
      "text/plain": [
       "1"
      ]
     },
     "execution_count": 27,
     "metadata": {},
     "output_type": "execute_result"
    }
   ],
   "source": [
    "# Return minimum element\n",
    "np.min(my_matrix)"
   ]
  },
  {
   "cell_type": "code",
   "execution_count": 34,
   "id": "e91919e2",
   "metadata": {},
   "outputs": [
    {
     "data": {
      "text/plain": [
       "array([ 9, 19,  6])"
      ]
     },
     "execution_count": 34,
     "metadata": {},
     "output_type": "execute_result"
    }
   ],
   "source": [
    "# Find max in each row\n",
    "np.max(my_matrix, axis = 1)"
   ]
  },
  {
   "cell_type": "code",
   "execution_count": 35,
   "id": "4da44de5",
   "metadata": {},
   "outputs": [
    {
     "data": {
      "text/plain": [
       "array([1, 3, 5, 6])"
      ]
     },
     "execution_count": 35,
     "metadata": {},
     "output_type": "execute_result"
    }
   ],
   "source": [
    "# Find min in each column\n",
    "np.min(my_matrix, axis = 0)"
   ]
  },
  {
   "cell_type": "code",
   "execution_count": 30,
   "id": "1cf9b320",
   "metadata": {},
   "outputs": [
    {
     "data": {
      "text/plain": [
       "7.916666666666667"
      ]
     },
     "execution_count": 30,
     "metadata": {},
     "output_type": "execute_result"
    }
   ],
   "source": [
    "# Return mean\n",
    "np.mean(my_matrix)"
   ]
  },
  {
   "cell_type": "code",
   "execution_count": 31,
   "id": "4e4e199a",
   "metadata": {},
   "outputs": [
    {
     "data": {
      "text/plain": [
       "28.743055555555554"
      ]
     },
     "execution_count": 31,
     "metadata": {},
     "output_type": "execute_result"
    }
   ],
   "source": [
    "# Return variance\n",
    "np.var(my_matrix)"
   ]
  },
  {
   "cell_type": "code",
   "execution_count": 32,
   "id": "458cebd3",
   "metadata": {},
   "outputs": [
    {
     "data": {
      "text/plain": [
       "5.361255035488943"
      ]
     },
     "execution_count": 32,
     "metadata": {},
     "output_type": "execute_result"
    }
   ],
   "source": [
    "# Return Standard Deviation\n",
    "np.std(my_matrix)"
   ]
  },
  {
   "cell_type": "code",
   "execution_count": 36,
   "id": "5fb31848",
   "metadata": {},
   "outputs": [
    {
     "data": {
      "text/plain": [
       "array([ 4.66666667,  6.66666667,  9.        , 11.33333333])"
      ]
     },
     "execution_count": 36,
     "metadata": {},
     "output_type": "execute_result"
    }
   ],
   "source": [
    "# Return mean value in each column\n",
    "np.mean(my_matrix, axis = 0)"
   ]
  },
  {
   "cell_type": "code",
   "execution_count": null,
   "id": "b1597a89",
   "metadata": {},
   "outputs": [],
   "source": []
  }
 ],
 "metadata": {
  "kernelspec": {
   "display_name": "Python 3 (ipykernel)",
   "language": "python",
   "name": "python3"
  },
  "language_info": {
   "codemirror_mode": {
    "name": "ipython",
    "version": 3
   },
   "file_extension": ".py",
   "mimetype": "text/x-python",
   "name": "python",
   "nbconvert_exporter": "python",
   "pygments_lexer": "ipython3",
   "version": "3.11.5"
  }
 },
 "nbformat": 4,
 "nbformat_minor": 5
}
