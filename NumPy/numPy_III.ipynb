{
 "cells": [
  {
   "cell_type": "markdown",
   "id": "aa5a10c9",
   "metadata": {},
   "source": [
    "# Numpy Data Types"
   ]
  },
  {
   "cell_type": "code",
   "execution_count": 2,
   "id": "01730b0d",
   "metadata": {},
   "outputs": [
    {
     "name": "stdout",
     "output_type": "stream",
     "text": [
      "[4.5 3.4 3.9 4.2] float64\n",
      "\n",
      "\n",
      "[1 2 3 4] int32\n"
     ]
    }
   ],
   "source": [
    "#checking data types\n",
    "import numpy as nm\n",
    "arr = nm.array([1, 2, 3, 4])\n",
    "\n",
    "arr2 = nm.array([4.5, 3.4, 3.9, 4.2])\n",
    "\n",
    "print(arr2, arr2.dtype)\n",
    "print(\"\\n\")\n",
    "print(arr, arr.dtype)"
   ]
  },
  {
   "cell_type": "code",
   "execution_count": 4,
   "id": "54a97c42",
   "metadata": {},
   "outputs": [
    {
     "name": "stdout",
     "output_type": "stream",
     "text": [
      "[4 3 3 4] int32\n",
      "\n",
      "\n",
      "[1. 2. 3. 4.] float64\n"
     ]
    }
   ],
   "source": [
    "#assigning data type\n",
    "arrays = nm.array([1, 2, 3, 4], dtype = nm.float64)\n",
    "\n",
    "arrays2 = nm.array([4.5, 3.4, 3.9, 4.2], dtype = nm.int32)\n",
    "\n",
    "print(arrays2, arrays2.dtype)\n",
    "print(\"\\n\")\n",
    "print(arrays, arrays.dtype)\n"
   ]
  },
  {
   "cell_type": "code",
   "execution_count": 6,
   "id": "de2620ba",
   "metadata": {},
   "outputs": [
    {
     "name": "stdout",
     "output_type": "stream",
     "text": [
      "int32\n"
     ]
    }
   ],
   "source": [
    "#converting data types\n",
    "\n",
    "old_arr = nm.array([4.5, 7.2, 9.1])\n",
    "\n",
    "arr_int = arr.astype(nm.int32)\n",
    "\n",
    "print(arr_int.dtype)"
   ]
  },
  {
   "cell_type": "markdown",
   "id": "5ae8e7ef",
   "metadata": {},
   "source": [
    "# Joining NumPy Arrays"
   ]
  },
  {
   "cell_type": "code",
   "execution_count": 7,
   "id": "1a7ca7b3",
   "metadata": {},
   "outputs": [],
   "source": [
    "arr1 = nm.array([5,4,3,2,1])\n",
    "arr2 = nm.array([2,3,4,5,6])\n",
    "\n",
    "result = nm.concatenate((arr1, arr2)) #concatenate"
   ]
  },
  {
   "cell_type": "code",
   "execution_count": 8,
   "id": "40e0493f",
   "metadata": {},
   "outputs": [
    {
     "name": "stdout",
     "output_type": "stream",
     "text": [
      "[5 4 3 2 1 2 3 4 5 6]\n"
     ]
    }
   ],
   "source": [
    "print(result)"
   ]
  }
 ],
 "metadata": {
  "kernelspec": {
   "display_name": "Python 3 (ipykernel)",
   "language": "python",
   "name": "python3"
  },
  "language_info": {
   "codemirror_mode": {
    "name": "ipython",
    "version": 3
   },
   "file_extension": ".py",
   "mimetype": "text/x-python",
   "name": "python",
   "nbconvert_exporter": "python",
   "pygments_lexer": "ipython3",
   "version": "3.11.5"
  }
 },
 "nbformat": 4,
 "nbformat_minor": 5
}
